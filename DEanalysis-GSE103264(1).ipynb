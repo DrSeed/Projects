{
 "cells": [
  {
   "cell_type": "markdown",
   "id": "66edb5a3-abd4-40c1-8af4-985779f4d5bd",
   "metadata": {
    "tags": []
   },
   "source": [
    "### Differential Gene Expression Analysis\n",
    "\n",
    "GSE ID: GSE103264\n",
    "\n",
    "**MLL1 is essential for retinal development**\n",
    "\n",
    "By removing MLL1 from mouse retinal progenitors, we discovered that MLL1 plays multiplex roles in retinal development by regulating: \n",
    "1) progenitor cell proliferation and cell cycle progression; \n",
    "2) retinal cell composition; \n",
    "3) maintenance of horizontal neurons; \n",
    "4) formation of functional synapses between neuronal layers; and \n",
    "5) visual function development. \n",
    "\n",
    "Altogether, our results suggest that MLL1 is an indispensable regulator for the development of retinal structure and function."
   ]
  },
  {
   "cell_type": "markdown",
   "id": "a21c00a7-5138-4db8-bb79-69d031ab24ec",
   "metadata": {},
   "source": [
    "### Experimental Design\n",
    "\n",
    "MLL1 KO vs WT (of strain: C57Bl6/J at age: P14)\n",
    "\n",
    "![Image](./data/DE-Page-5.drawio.png)\n"
   ]
  },
  {
   "cell_type": "code",
   "execution_count": null,
   "id": "5cba7f88-1070-47ae-bc85-2025260fc012",
   "metadata": {},
   "outputs": [],
   "source": [
    "### Install Packages"
   ]
  },
  {
   "cell_type": "code",
   "execution_count": 23,
   "id": "f6a9a64a",
   "metadata": {},
   "outputs": [
    {
     "ename": "ERROR",
     "evalue": "Error in parse(text = x, srcfile = src): <text>:1:5: unexpected symbol\n1: pip install\n        ^\n",
     "output_type": "error",
     "traceback": [
      "Error in parse(text = x, srcfile = src): <text>:1:5: unexpected symbol\n1: pip install\n        ^\nTraceback:\n"
     ]
    }
   ],
   "source": [
    "pip install --upgrade jupyterlab"
   ]
  },
  {
   "cell_type": "code",
   "execution_count": null,
   "id": "ab9da9d2-b19c-4f87-b216-468b9d5fc013",
   "metadata": {},
   "outputs": [],
   "source": [
    "if (!require(\"BiocManager\", quietly = TRUE))\n",
    "     install.packages(\"BiocManager\")\n",
    "\n",
    " BiocManager::install(\"DESeq2\")"
   ]
  },
  {
   "cell_type": "code",
   "execution_count": null,
   "id": "fe8c3231-5c5e-4e38-810b-3417b16973db",
   "metadata": {},
   "outputs": [],
   "source": [
    "## Read In the Counts Matrix"
   ]
  },
  {
   "cell_type": "code",
   "execution_count": 43,
   "id": "d0dda6a8-766f-40e3-82d0-10b924f96ff0",
   "metadata": {},
   "outputs": [
    {
     "data": {
      "text/html": [
       "<table>\n",
       "<thead><tr><th scope=col>genes</th><th scope=col>MLL1_KO_Rep1</th><th scope=col>MLL1_KO_Rep2</th><th scope=col>MLL1_KO_Rep3</th><th scope=col>WT_Rep1</th><th scope=col>WT_Rep2</th><th scope=col>WT_Rep3</th></tr></thead>\n",
       "<tbody>\n",
       "\t<tr><td>Gnai3</td><td>789  </td><td>713  </td><td>549  </td><td>829  </td><td>761  </td><td>738  </td></tr>\n",
       "\t<tr><td>Pbsn </td><td>  0  </td><td>  0  </td><td>  0  </td><td>  0  </td><td>  0  </td><td>  0  </td></tr>\n",
       "\t<tr><td>Cdc45</td><td>119  </td><td> 70  </td><td> 83  </td><td>102  </td><td> 77  </td><td> 81  </td></tr>\n",
       "\t<tr><td>H19  </td><td> 78  </td><td> 47  </td><td> 47  </td><td>137  </td><td>160  </td><td>114  </td></tr>\n",
       "\t<tr><td>Scml2</td><td> 42  </td><td> 45  </td><td> 31  </td><td> 52  </td><td> 39  </td><td> 36  </td></tr>\n",
       "\t<tr><td>Apoh </td><td>  3  </td><td>  2  </td><td>  1  </td><td>  6  </td><td>  2  </td><td>  8  </td></tr>\n",
       "</tbody>\n",
       "</table>\n"
      ],
      "text/latex": [
       "\\begin{tabular}{r|lllllll}\n",
       " genes & MLL1\\_KO\\_Rep1 & MLL1\\_KO\\_Rep2 & MLL1\\_KO\\_Rep3 & WT\\_Rep1 & WT\\_Rep2 & WT\\_Rep3\\\\\n",
       "\\hline\n",
       "\t Gnai3 & 789   & 713   & 549   & 829   & 761   & 738  \\\\\n",
       "\t Pbsn  &   0   &   0   &   0   &   0   &   0   &   0  \\\\\n",
       "\t Cdc45 & 119   &  70   &  83   & 102   &  77   &  81  \\\\\n",
       "\t H19   &  78   &  47   &  47   & 137   & 160   & 114  \\\\\n",
       "\t Scml2 &  42   &  45   &  31   &  52   &  39   &  36  \\\\\n",
       "\t Apoh  &   3   &   2   &   1   &   6   &   2   &   8  \\\\\n",
       "\\end{tabular}\n"
      ],
      "text/markdown": [
       "\n",
       "| genes | MLL1_KO_Rep1 | MLL1_KO_Rep2 | MLL1_KO_Rep3 | WT_Rep1 | WT_Rep2 | WT_Rep3 |\n",
       "|---|---|---|---|---|---|---|\n",
       "| Gnai3 | 789   | 713   | 549   | 829   | 761   | 738   |\n",
       "| Pbsn  |   0   |   0   |   0   |   0   |   0   |   0   |\n",
       "| Cdc45 | 119   |  70   |  83   | 102   |  77   |  81   |\n",
       "| H19   |  78   |  47   |  47   | 137   | 160   | 114   |\n",
       "| Scml2 |  42   |  45   |  31   |  52   |  39   |  36   |\n",
       "| Apoh  |   3   |   2   |   1   |   6   |   2   |   8   |\n",
       "\n"
      ],
      "text/plain": [
       "  genes MLL1_KO_Rep1 MLL1_KO_Rep2 MLL1_KO_Rep3 WT_Rep1 WT_Rep2 WT_Rep3\n",
       "1 Gnai3 789          713          549          829     761     738    \n",
       "2 Pbsn    0            0            0            0       0       0    \n",
       "3 Cdc45 119           70           83          102      77      81    \n",
       "4 H19    78           47           47          137     160     114    \n",
       "5 Scml2  42           45           31           52      39      36    \n",
       "6 Apoh    3            2            1            6       2       8    "
      ]
     },
     "metadata": {},
     "output_type": "display_data"
    }
   ],
   "source": [
    "data <- read.csv(\"counts_new.csv\")\n",
    "head(data)"
   ]
  },
  {
   "cell_type": "code",
   "execution_count": 44,
   "id": "331ff235-5267-46b8-8c1e-34ef36cfd994",
   "metadata": {},
   "outputs": [],
   "source": [
    "duplicate_rows <- duplicated(data$genes)\n",
    "data <- data[!duplicate_rows,]"
   ]
  },
  {
   "cell_type": "code",
   "execution_count": 45,
   "id": "f293e1d2-ffdf-48b9-a689-fc1b2514dcfc",
   "metadata": {},
   "outputs": [
    {
     "data": {
      "text/html": [
       "<table>\n",
       "<thead><tr><th></th><th scope=col>MLL1_KO_Rep1</th><th scope=col>MLL1_KO_Rep2</th><th scope=col>MLL1_KO_Rep3</th><th scope=col>WT_Rep1</th><th scope=col>WT_Rep2</th><th scope=col>WT_Rep3</th></tr></thead>\n",
       "<tbody>\n",
       "\t<tr><th scope=row>Gnai3</th><td>789</td><td>713</td><td>549</td><td>829</td><td>761</td><td>738</td></tr>\n",
       "\t<tr><th scope=row>Pbsn</th><td>  0</td><td>  0</td><td>  0</td><td>  0</td><td>  0</td><td>  0</td></tr>\n",
       "\t<tr><th scope=row>Cdc45</th><td>119</td><td> 70</td><td> 83</td><td>102</td><td> 77</td><td> 81</td></tr>\n",
       "\t<tr><th scope=row>H19</th><td> 78</td><td> 47</td><td> 47</td><td>137</td><td>160</td><td>114</td></tr>\n",
       "\t<tr><th scope=row>Scml2</th><td> 42</td><td> 45</td><td> 31</td><td> 52</td><td> 39</td><td> 36</td></tr>\n",
       "\t<tr><th scope=row>Apoh</th><td>  3</td><td>  2</td><td>  1</td><td>  6</td><td>  2</td><td>  8</td></tr>\n",
       "</tbody>\n",
       "</table>\n"
      ],
      "text/latex": [
       "\\begin{tabular}{r|llllll}\n",
       "  & MLL1\\_KO\\_Rep1 & MLL1\\_KO\\_Rep2 & MLL1\\_KO\\_Rep3 & WT\\_Rep1 & WT\\_Rep2 & WT\\_Rep3\\\\\n",
       "\\hline\n",
       "\tGnai3 & 789 & 713 & 549 & 829 & 761 & 738\\\\\n",
       "\tPbsn &   0 &   0 &   0 &   0 &   0 &   0\\\\\n",
       "\tCdc45 & 119 &  70 &  83 & 102 &  77 &  81\\\\\n",
       "\tH19 &  78 &  47 &  47 & 137 & 160 & 114\\\\\n",
       "\tScml2 &  42 &  45 &  31 &  52 &  39 &  36\\\\\n",
       "\tApoh &   3 &   2 &   1 &   6 &   2 &   8\\\\\n",
       "\\end{tabular}\n"
      ],
      "text/markdown": [
       "\n",
       "| <!--/--> | MLL1_KO_Rep1 | MLL1_KO_Rep2 | MLL1_KO_Rep3 | WT_Rep1 | WT_Rep2 | WT_Rep3 |\n",
       "|---|---|---|---|---|---|---|\n",
       "| Gnai3 | 789 | 713 | 549 | 829 | 761 | 738 |\n",
       "| Pbsn |   0 |   0 |   0 |   0 |   0 |   0 |\n",
       "| Cdc45 | 119 |  70 |  83 | 102 |  77 |  81 |\n",
       "| H19 |  78 |  47 |  47 | 137 | 160 | 114 |\n",
       "| Scml2 |  42 |  45 |  31 |  52 |  39 |  36 |\n",
       "| Apoh |   3 |   2 |   1 |   6 |   2 |   8 |\n",
       "\n"
      ],
      "text/plain": [
       "      MLL1_KO_Rep1 MLL1_KO_Rep2 MLL1_KO_Rep3 WT_Rep1 WT_Rep2 WT_Rep3\n",
       "Gnai3 789          713          549          829     761     738    \n",
       "Pbsn    0            0            0            0       0       0    \n",
       "Cdc45 119           70           83          102      77      81    \n",
       "H19    78           47           47          137     160     114    \n",
       "Scml2  42           45           31           52      39      36    \n",
       "Apoh    3            2            1            6       2       8    "
      ]
     },
     "metadata": {},
     "output_type": "display_data"
    }
   ],
   "source": [
    "# Rearrange the Dataframe to add row.names to the datamatrix\n",
    "row.names(data) <- data$genes\n",
    "data <- data[,2:7]\n",
    "head(data)"
   ]
  },
  {
   "cell_type": "code",
   "execution_count": 46,
   "id": "5a8b09f9-884f-4173-bc7c-b041d36c1ac2",
   "metadata": {},
   "outputs": [
    {
     "data": {
      "text/html": [
       "<ol class=list-inline>\n",
       "\t<li>55255</li>\n",
       "\t<li>6</li>\n",
       "</ol>\n"
      ],
      "text/latex": [
       "\\begin{enumerate*}\n",
       "\\item 55255\n",
       "\\item 6\n",
       "\\end{enumerate*}\n"
      ],
      "text/markdown": [
       "1. 55255\n",
       "2. 6\n",
       "\n",
       "\n"
      ],
      "text/plain": [
       "[1] 55255     6"
      ]
     },
     "metadata": {},
     "output_type": "display_data"
    }
   ],
   "source": [
    "dim(data)"
   ]
  },
  {
   "cell_type": "code",
   "execution_count": 47,
   "id": "f54a185f-a8b5-4295-ad05-5cf33a1832b7",
   "metadata": {},
   "outputs": [
    {
     "ename": "ERROR",
     "evalue": "Error: package or namespace load failed for 'DESeq2' in loadNamespace(j <- i[[1L]], c(lib.loc, .libPaths()), versionCheck = vI[[j]]):\n there is no package called 'locfit'\n",
     "output_type": "error",
     "traceback": [
      "Error: package or namespace load failed for 'DESeq2' in loadNamespace(j <- i[[1L]], c(lib.loc, .libPaths()), versionCheck = vI[[j]]):\n there is no package called 'locfit'\nTraceback:\n",
      "1. library(DESeq2)",
      "2. tryCatch({\n .     attr(package, \"LibPath\") <- which.lib.loc\n .     ns <- loadNamespace(package, lib.loc)\n .     env <- attachNamespace(ns, pos = pos, deps, exclude, include.only)\n . }, error = function(e) {\n .     P <- if (!is.null(cc <- conditionCall(e))) \n .         paste(\" in\", deparse(cc)[1L])\n .     else \"\"\n .     msg <- gettextf(\"package or namespace load failed for %s%s:\\n %s\", \n .         sQuote(package), P, conditionMessage(e))\n .     if (logical.return) \n .         message(paste(\"Error:\", msg), domain = NA)\n .     else stop(msg, call. = FALSE, domain = NA)\n . })",
      "3. tryCatchList(expr, classes, parentenv, handlers)",
      "4. tryCatchOne(expr, names, parentenv, handlers[[1L]])",
      "5. value[[3L]](cond)",
      "6. stop(msg, call. = FALSE, domain = NA)"
     ]
    }
   ],
   "source": [
    "# load the library DEseq2\n",
    "library(DESeq2)\n",
    "library(ggplot2)\n",
    "library(plotly)\n",
    "library(dendextend)"
   ]
  },
  {
   "cell_type": "code",
   "execution_count": null,
   "id": "f421bc8b-d096-48e9-a0da-503d87f66979",
   "metadata": {},
   "outputs": [],
   "source": [
    "head(data)"
   ]
  },
  {
   "cell_type": "code",
   "execution_count": null,
   "id": "3c23be9c-6de8-42ca-99e6-30f3dc8fba0c",
   "metadata": {},
   "outputs": [],
   "source": [
    "# create a colData dataframe"
   ]
  },
  {
   "cell_type": "code",
   "execution_count": null,
   "id": "929c0e79-3d5e-4cb9-9f10-eaa99e440abd",
   "metadata": {},
   "outputs": [],
   "source": [
    "colData <- data.frame(condition = c(\"Mutant\",\"Mutant\",\"Mutant\",\"WT\",\"WT\",\"WT\"))\n",
    "colData"
   ]
  },
  {
   "cell_type": "code",
   "execution_count": null,
   "id": "09dec4b4-a310-414f-9839-e1bcd7441c34",
   "metadata": {},
   "outputs": [],
   "source": [
    "condition = factor(c(\"Mutant\",\"Mutant\",\"Mutant\",\"WT\",\"WT\",\"WT\"))"
   ]
  },
  {
   "cell_type": "code",
   "execution_count": null,
   "id": "5afb9862-2235-47bb-85cb-1bea35073e1e",
   "metadata": {},
   "outputs": [],
   "source": [
    "condition"
   ]
  },
  {
   "cell_type": "code",
   "execution_count": null,
   "id": "43127113-ce10-4a27-8415-a0967621026a",
   "metadata": {},
   "outputs": [],
   "source": [
    "dim(data)"
   ]
  },
  {
   "cell_type": "code",
   "execution_count": null,
   "id": "913fee87-00bc-471b-97c0-cf9d925422a8",
   "metadata": {},
   "outputs": [],
   "source": [
    "# Create a DESeq2 dataset object\n",
    "dds <- DESeqDataSetFromMatrix(countData = data,\n",
    "                              colData = colData,\n",
    "                              design = ~ condition)"
   ]
  },
  {
   "cell_type": "code",
   "execution_count": null,
   "id": "028187c3-5e3d-4918-9ae9-bc446e7dd8c4",
   "metadata": {},
   "outputs": [],
   "source": []
  },
  {
   "cell_type": "code",
   "execution_count": null,
   "id": "ce736d1d-875b-45f7-a5fc-19a5858406ce",
   "metadata": {},
   "outputs": [],
   "source": [
    "# Anatomy of the DDS Object"
   ]
  },
  {
   "cell_type": "code",
   "execution_count": null,
   "id": "1b5ce563-fb90-4a9a-93c3-696e278cb69b",
   "metadata": {},
   "outputs": [],
   "source": [
    "# Run the DESeq2 Pipeline\n",
    "dds <- DESeq(dds)"
   ]
  },
  {
   "cell_type": "code",
   "execution_count": null,
   "id": "30cc2dcf-9c1d-4e32-a679-0e78edbea06f",
   "metadata": {},
   "outputs": [],
   "source": [
    "results(dds)"
   ]
  },
  {
   "cell_type": "markdown",
   "id": "4f488df0-86ba-465e-8390-dad562839ae7",
   "metadata": {},
   "source": [
    "### Principle Component Analysis\n",
    "---\n",
    "Principal Component Analysis (PCA) is a statistical technique used to identify global patterns in high-dimensional datasets. It is commonly used to explore the similarity of biological samples in RNA-seq datasets. To achieve this, gene expression values are transformed into Principal Components (PCs), a set of linearly uncorrelated features which represent the most relevant sources of variance in the data, and subsequently visualized using a scatter plot.The first Principal Component is aligned with the largest source of variance, the second Principal Component to the largest remaining source of variance and so on. PCA provides insights into the clustering of samples and exposes batch effects as well as confounding variables in the RNAseq experiment."
   ]
  },
  {
   "cell_type": "code",
   "execution_count": null,
   "id": "f6e4ce53-93a7-43be-ab53-0dd789d93897",
   "metadata": {},
   "outputs": [],
   "source": [
    "vsd <- varianceStabilizingTransformation(dds, blind = TRUE)\n",
    "pcaData <- plotPCA(vsd, intgroup = \"condition\", returnData = TRUE)\n",
    "percentVar <- round(100 * attr(pcaData, \"percentVar\"))\n",
    "PCAplot <- ggplot(pcaData, aes(x = PC1, y = PC2, color = group)) + geom_point(size =3) +\n",
    "    xlab(paste0(\"PC1: \", percentVar[1], \"% variance\")) + ylab(paste0(\"PC2: \", percentVar[2], \"% variance\")) +\n",
    "    ggtitle(\"PCA with VST data\") + theme(plot.title = element_text(hjust = 0.5)) + theme_bw() \n",
    "ggplotly(PCAplot)"
   ]
  },
  {
   "cell_type": "markdown",
   "id": "f57a76bf-a073-41e4-94c4-b1d9e885872f",
   "metadata": {},
   "source": [
    "```vsd <- varianceStabilizingTransformation(dds, blind = TRUE):``` This line performs the VST on the DESeqDataSet object dds. VST is used to stabilize the variance across different expression levels and improve the suitability of the data for PCA. The blind = TRUE argument indicates that the transformation should be performed without knowledge of the experimental groups.\n",
    "\n",
    "```pcaData <- plotPCA(vsd, intgroup = \"condition\", returnData = TRUE):``` This line performs the PCA on the variance-stabilized data vsd. The intgroup = \"condition\" argument indicates that the points in the PCA plot should be colored based on the experimental conditions. The returnData = TRUE argument ensures that the PCA results are returned as a data frame.\n",
    "\n",
    "```percentVar <- round(100 * attr(pcaData, \"percentVar\")):``` This line calculates the percentage of variance explained by each principal component. The percentVar variable will contain these values.\n",
    "\n",
    "```PCAplot <- ggplot(pcaData, aes(x = PC1, y = PC2, color = group)) + geom_point(size = 3) + ...:``` This code sets up a scatter plot using the ggplot2 package. The x-axis represents the first principal component (PC1), the y-axis represents the second principal component (PC2), and the points are colored based on the experimental group. The size = 3 argument sets the size of the points.\n",
    "\n",
    "```xlab(paste0(\"PC1: \", percentVar[1], \"% variance\")) and ylab(paste0(\"PC2: \", percentVar[2], \"% variance\")):``` These lines set the x-axis and y-axis labels to indicate the percentage of variance explained by PC1 and PC2, respectively.\n",
    "\n",
    "```ggtitle(\"PCA with VST data\"):``` This line sets the title of the plot to \"PCA with VST data\".\n",
    "\n",
    "```theme(plot.title = element_text(hjust = 0.5)) + theme_bw():``` These lines set the theme of the plot, including centering the title and using a black and white color scheme.\n",
    "\n",
    "```ggplotly(PCAplot):``` This line converts the ggplot object PCAplot into an interactive plot using the ggplotly function from the plotly package. This allows for additional interactive features like zooming and hovering over points to display additional information."
   ]
  },
  {
   "cell_type": "code",
   "execution_count": null,
   "id": "4cd19dda-f1ba-4ef5-88d5-d747fd82e01c",
   "metadata": {},
   "outputs": [],
   "source": [
    "pcaData"
   ]
  },
  {
   "cell_type": "markdown",
   "id": "49636f86-3ac8-45b6-a41e-b5e673452195",
   "metadata": {},
   "source": [
    "### Hierarchical Clustering: Dendograms\n",
    "---\n",
    "Hierarchical clustering algorithm used to cluster genes or samples based on their expression profiles. It creates a dendrogram, which is a tree-like structure that represents the relationships between genes or samples. The algorithm iteratively merges the most similar genes or samples(here samples) based on their expression profiles until all genes or samples are grouped into clusters. The resulting dendrogram provides a visual representation of the clustering patterns."
   ]
  },
  {
   "cell_type": "code",
   "execution_count": null,
   "id": "9d3337b3-87d9-43c3-bd73-0766b5c42cf8",
   "metadata": {},
   "outputs": [],
   "source": [
    "dend <- t(scale(assay(dds))) %>% dist %>% hclust(method = \"ward.D2\") %>% as.dendrogram\n",
    "  par(mar = c(5,5,1,5)) # Setting margin for the plot\n",
    "  dend %>% set(\"branches_lwd\", 2) %>% set(\"branches_k_color\", k = 2) %>% set(\"highlight_branches_lwd\") %>%   plot(horiz=TRUE, xlab = \"Samples\", ylab = \"hclust distance\")"
   ]
  },
  {
   "cell_type": "markdown",
   "id": "b47bbb20-8dec-497d-91c1-649fe7a1dfa0",
   "metadata": {},
   "source": [
    "```dend <- t(scale(assay(dds))) %>% dist %>% hclust(method = \"ward.D2\") %>% as.dendrogram:``` This line performs the following steps:\n",
    "\n",
    "- ```assay(dds):``` Extracts the assay data from the DESeqDataSet object dds, which typically represents the normalized and transformed expression values.\n",
    "- ```scale():``` Applies scaling to the expression data, standardizing the values to have mean 0 and standard deviation 1 across samples.\n",
    "- ```t():``` Transposes the scaled expression data, so that samples are in columns and genes are in rows.\n",
    "- ```dist():``` Computes the distance matrix based on the scaled and transposed expression data.\n",
    "- ```hclust():``` Performs hierarchical clustering on the distance matrix using the \"ward.D2\" method, which minimizes the variance when merging clusters.\n",
    "- ```as.dendrogram():``` Converts the hierarchical clustering result into a dendrogram object.\n",
    "- ```par(mar = c(5,5,1,5)):``` This line sets the margins of the plot, controlling the space for the plot region and axis labels. The values within mar specify the bottom, left, top, and right margins, respectively.\n",
    "\n",
    "```dend %>% set(\"branches_lwd\", 2) %>% set(\"branches_k_color\", k = 2) %>% set(\"highlight_branches_lwd\") %>% plot(horiz=TRUE, xlab = \"Samples\", ylab = \"hclust distance\"):``` This line performs the following steps:\n",
    "\n",
    "- ```set(\"branches_lwd\", 2):``` Sets the line width of the dendrogram branches to 2.\n",
    "- ```set(\"branches_k_color\", k = 2):``` Colors the dendrogram branches based on the number of clusters (k), with 2 clusters in this case.\n",
    "- ```set(\"highlight_branches_lwd\"):``` Highlights the branches in the dendrogram.\n",
    "- ```plot(horiz=TRUE, xlab = \"Samples\", ylab = \"hclust distance\"):``` Plots the dendrogram with a horizontal orientation, and labels the x-axis as \"Samples\" and y-axis as \"hclust distance\"."
   ]
  },
  {
   "cell_type": "code",
   "execution_count": null,
   "id": "c3657551-d789-41f1-b581-7c851798deb9",
   "metadata": {},
   "outputs": [],
   "source": [
    "# Get the results from the DESeq2 Pipeline\n",
    "results <- results(dds)"
   ]
  },
  {
   "cell_type": "code",
   "execution_count": null,
   "id": "999e8266-792c-4c56-92f0-ee54edb50669",
   "metadata": {},
   "outputs": [],
   "source": [
    "# Inspecting the Results"
   ]
  },
  {
   "cell_type": "markdown",
   "id": "f5196789-dd91-4d9f-b45e-9bc803404bb2",
   "metadata": {},
   "source": [
    "- **baseMean:** The average expression level of a gene across all samples. It represents the normalized count values (after accounting for library size differences) and is used as a measure of the overall expression of a gene.\n",
    "\n",
    "- **log2FoldChange:** This field represents the fold change in gene expression between two conditions or groups. It is expressed in log2 scale, which means a positive value indicates upregulation in the first condition compared to the second condition, while a negative value indicates downregulation.\n",
    "\n",
    "- **lfcSE:** The standard error associated with the log2 fold change estimation. It provides a measure of uncertainty in the fold change calculation.\n",
    "\n",
    "- **stat:** The test statistic, which is computed based on the log2 fold change and the standard error. It is often used to assess the significance of differential expression.\n",
    "\n",
    "- **pvalue:** The p-value represents the statistical significance of the differential expression. It indicates the probability of observing the differential expression by chance alone. A smaller p-value suggests a higher level of significance.\n",
    "\n",
    "- **padj:** The adjusted p-value, also known as the false discovery rate (FDR). It accounts for multiple hypothesis testing and is often used to control for false positives. Genes with a low adjusted p-value are considered significantly differentially expressed.\n",
    "\n",
    "- **dispersion:** The estimated dispersion parameter for each gene, which describes the biological variability within the samples. It is a crucial parameter in DESeq2 that helps account for the different levels of variability across genes."
   ]
  },
  {
   "cell_type": "code",
   "execution_count": null,
   "id": "5dcd8088-3f3e-4af6-87f6-3dd1cea4a7e4",
   "metadata": {},
   "outputs": [],
   "source": [
    "head(results)"
   ]
  },
  {
   "cell_type": "code",
   "execution_count": null,
   "id": "3ca17bbd-ed31-4c04-a080-992c56c14f6b",
   "metadata": {},
   "outputs": [],
   "source": [
    "# Extract significant genes based on adjusted p-value threshold\n",
    "sig_genes <- subset(results, padj < 0.05)\n",
    "sig_genes"
   ]
  },
  {
   "cell_type": "code",
   "execution_count": null,
   "id": "b2458a26-308f-47a4-8016-59a5cb07bb9a",
   "metadata": {},
   "outputs": [],
   "source": [
    "# Extract Top 20 Differentially Expressed genes\n",
    "top_20 <- head(sig_genes[order(sig_genes$padj),],20)\n",
    "top_20"
   ]
  },
  {
   "cell_type": "markdown",
   "id": "e701c4ab-0f20-4494-ad39-a6ba6065cb9a",
   "metadata": {},
   "source": [
    "### MA Plots\n",
    "---\n",
    "The term \"MA\" stands for \"M-value versus A-value\". Here's a breakdown of the components:\n",
    "\n",
    "- **M-value:** The M-value represents the log-fold change between two conditions or groups. It is calculated as the logarithm (base 2) of the ratio of expression levels in the two conditions. Mathematically, M = log2(expression_condition_1 / expression_condition_2). A positive M-value indicates upregulation in the first condition compared to the second condition, while a negative M-value indicates downregulation.\n",
    "\n",
    "- **A-value:** The A-value represents the average expression level of a gene, which is calculated as the average of the log-expression values across the two conditions. Mathematically, A = (log2(expression_condition_1) + log2(expression_condition_2)) / 2. The A-value provides information about the overall expression level of a gene, irrespective of the direction of differential expression.\n",
    "\n",
    "In an MA plot, each gene is represented as a point, where the x-axis corresponds to the A-value and the y-axis corresponds to the M-value. The plot allows you to visually inspect the distribution of gene expression changes across the range of expression levels.\n",
    "\n",
    "Interpreting an MA plot involves looking for patterns or trends. Typically, genes that are not differentially expressed will be scattered around the center line (M=0), as their M-values will be close to zero. Genes that are differentially expressed will deviate from the center line, with points either above or below indicating up- or downregulation, respectively.\n",
    "\n",
    "It's important to note that MA plots provide a global overview of gene expression changes and can help identify patterns and potential issues such as outliers. However, they do not provide statistical significance or control for multiple testing."
   ]
  },
  {
   "cell_type": "code",
   "execution_count": null,
   "id": "f0bbf99b-1dd4-49e2-a6cf-ab45052540b6",
   "metadata": {},
   "outputs": [],
   "source": [
    "# Plot an MA Plot\n",
    "plotMA(results, alpha = 0.05,\n",
    "        main = \"MA Plot\")"
   ]
  },
  {
   "cell_type": "markdown",
   "id": "71be941e-b368-4ee5-bf57-c2e3acbf1e69",
   "metadata": {},
   "source": [
    "## Volcano Plots\n",
    "---\n",
    "In the volcano plot, the negative logarithm (base 10) of the adjusted p-value (or another statistical measure of significance) is typically plotted on the y-axis, representing the statistical significance or evidence for differential expression. The log2 fold change (or another measure of effect size) is plotted on the x-axis, representing the magnitude or direction of differential expression. Each point on the plot represents a gene, and its position indicates the level of statistical significance (y-axis) and the magnitude of expression change (x-axis) for that gene."
   ]
  },
  {
   "cell_type": "code",
   "execution_count": null,
   "id": "bef453a3-2df1-4ba9-943b-283cc362fbaf",
   "metadata": {},
   "outputs": [],
   "source": [
    "# Define a significance threshold for highlighting DE genes\n",
    "significance_threshold <- 0.05\n",
    "\n",
    "# Create a data frame with log2 fold change, -log10(p-value), and DE gene indicator\n",
    "df <- data.frame(logFC = results$log2FoldChange,\n",
    "                 negLogPval = -log10(results$padj),\n",
    "                 DE = results$padj < significance_threshold)\n",
    "\n",
    "# Customize the plot using ggplot2\n",
    "ggplot(df, aes(x = logFC, y = negLogPval, color = DE)) +\n",
    "  geom_point(size = 1, alpha = 0.6) +\n",
    "  scale_color_manual(values = c(\"gray\", \"red\"), labels = c(\"Not DE\", \"DE\")) +\n",
    "  labs(x = \"Log2 Fold Change\", y = \"-log10(p-value)\",\n",
    "       title = \"Volcano Plot\") +\n",
    "  theme_minimal()"
   ]
  },
  {
   "cell_type": "code",
   "execution_count": null,
   "id": "5019da03-3fe8-41f4-9851-18d490d30036",
   "metadata": {},
   "outputs": [],
   "source": [
    "library(EnhancedVolcano)"
   ]
  },
  {
   "cell_type": "code",
   "execution_count": null,
   "id": "e01817e9-6c0e-4154-a164-1d9f34339c72",
   "metadata": {},
   "outputs": [],
   "source": [
    "  EnhancedVolcano(results,\n",
    "    lab = rownames(results),\n",
    "    x = 'log2FoldChange',\n",
    "    y = 'pvalue',\n",
    "    ylim=c(0,20))"
   ]
  },
  {
   "cell_type": "markdown",
   "id": "cc9bc8d1-3f72-4329-9054-54e5903bfbe2",
   "metadata": {
    "jp-MarkdownHeadingCollapsed": true,
    "tags": []
   },
   "source": [
    "### Counts Plot"
   ]
  },
  {
   "cell_type": "code",
   "execution_count": null,
   "id": "af201941-5c69-4149-aa23-031a9024f3df",
   "metadata": {},
   "outputs": [],
   "source": [
    "plotCounts(dds, gene=which.min(results$padj), intgroup=\"condition\")"
   ]
  },
  {
   "cell_type": "markdown",
   "id": "da8a049d-5540-44df-ae17-80b746caec78",
   "metadata": {},
   "source": [
    "### Heat Maps of Differentially expressed genes\n",
    "---\n",
    "In a heat map, each row represents a gene, and each column represents a sample or condition. The expression levels of the genes are depicted using a color gradient, where different colors or shades represent different expression levels. Here, higher expression levels are represented by brighter or warmer colors ( red), while lower expression levels are represented by darker or cooler colors ( blue)."
   ]
  },
  {
   "cell_type": "code",
   "execution_count": null,
   "id": "550bc31b-6c8e-4edb-8fc7-daafec80c97a",
   "metadata": {},
   "outputs": [],
   "source": [
    "# Assuming you have already performed differential expression analysis using DESeq2\n",
    "# and stored the results in a variable called 'dds'\n",
    "\n",
    "# Load the pheatmap package\n",
    "library(pheatmap)\n",
    "\n",
    "# Get normalized counts from the DESeq2 object\n",
    "mat <- assay(dds)[top_20@rownames,]\n",
    "\n",
    "# Perform clustering on the samples and genes\n",
    "rownames(mat) <- row.names(assay(dds)[top_20@rownames,])\n",
    "colnames(mat) <- colData(dds)$condition\n",
    "result <- pheatmap(mat, cluster_rows = TRUE, cluster_cols = TRUE)"
   ]
  },
  {
   "cell_type": "code",
   "execution_count": null,
   "id": "0cff0496-97b9-410f-98be-f91c613c3a07",
   "metadata": {},
   "outputs": [],
   "source": [
    "## move the PCA to the top"
   ]
  },
  {
   "cell_type": "code",
   "execution_count": null,
   "id": "34702e32-51a9-46f8-acbd-b858db173ddd",
   "metadata": {},
   "outputs": [],
   "source": [
    "##pathway analysis"
   ]
  },
  {
   "cell_type": "code",
   "execution_count": null,
   "id": "37f119e0-b2bb-445a-a10e-fc55f069b8ac",
   "metadata": {},
   "outputs": [],
   "source": [
    "top_20@rownames"
   ]
  },
  {
   "cell_type": "code",
   "execution_count": null,
   "id": "32c2cbb2-ce1e-4007-a01b-9c5129982de3",
   "metadata": {},
   "outputs": [],
   "source": [
    "plotDispEsts(dds)"
   ]
  },
  {
   "cell_type": "code",
   "execution_count": null,
   "id": "07830e93-947c-45b1-ad21-3d4f2c10aae4",
   "metadata": {},
   "outputs": [],
   "source": []
  }
 ],
 "metadata": {
  "kernelspec": {
   "display_name": "R",
   "language": "R",
   "name": "ir"
  },
  "language_info": {
   "codemirror_mode": "r",
   "file_extension": ".r",
   "mimetype": "text/x-r-source",
   "name": "R",
   "pygments_lexer": "r",
   "version": "3.6.1"
  }
 },
 "nbformat": 4,
 "nbformat_minor": 5
}
