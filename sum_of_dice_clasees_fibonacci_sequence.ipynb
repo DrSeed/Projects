{
 "cells": [
  {
   "cell_type": "markdown",
   "id": "6ac53018",
   "metadata": {},
   "source": [
    "#### You have two dice, one has six odd numbers: 1, 3, 5, 7, 9, 11; the other has six even numbers: 2, 4, 6, 8, 10, 12. \n",
    "#### Make R codes to: a. print all the combinations of numbers from two dice\n"
   ]
  },
  {
   "cell_type": "code",
   "execution_count": 27,
   "id": "3de1ccab",
   "metadata": {},
   "outputs": [
    {
     "name": "stdout",
     "output_type": "stream",
     "text": [
      " The combinations from the two dice are :[1] 1 2\n",
      "[1] 1 4\n",
      "[1] 1 6\n",
      "[1] 1 8\n",
      "[1]  1 10\n",
      "[1]  1 12\n",
      "[1] 3 2\n",
      "[1] 3 4\n",
      "[1] 3 6\n",
      "[1] 3 8\n",
      "[1]  3 10\n",
      "[1]  3 12\n",
      "[1] 5 2\n",
      "[1] 5 4\n",
      "[1] 5 6\n",
      "[1] 5 8\n",
      "[1]  5 10\n",
      "[1]  5 12\n",
      "[1] 7 2\n",
      "[1] 7 4\n",
      "[1] 7 6\n",
      "[1] 7 8\n",
      "[1]  7 10\n",
      "[1]  7 12\n",
      "[1] 9 2\n",
      "[1] 9 4\n",
      "[1] 9 6\n",
      "[1] 9 8\n",
      "[1]  9 10\n",
      "[1]  9 12\n",
      "[1] 11  2\n",
      "[1] 11  4\n",
      "[1] 11  6\n",
      "[1] 11  8\n",
      "[1] 11 10\n",
      "[1] 11 12\n"
     ]
    }
   ],
   "source": [
    "dice1 = c(1, 3, 5, 7, 9, 11)\n",
    "dice2 = c(2, 4, 6, 8, 10, 12)\n",
    "cat(\" The combinations from the two dice are :\")\n",
    "\n",
    "for (i in dice1) {\n",
    "  for (j in dice2) {\n",
    "    outcomes <- append(i,j)\n",
    "    print(outcomes)\n",
    "  }\n",
    "}"
   ]
  },
  {
   "cell_type": "code",
   "execution_count": null,
   "id": "1e61f9f5",
   "metadata": {},
   "outputs": [],
   "source": []
  },
  {
   "cell_type": "markdown",
   "id": "9b9b0f36",
   "metadata": {},
   "source": [
    "##### use your own function to calculate the average value of all the sum of combinations."
   ]
  },
  {
   "cell_type": "code",
   "execution_count": 8,
   "id": "d8a410ea",
   "metadata": {},
   "outputs": [
    {
     "name": "stdout",
     "output_type": "stream",
     "text": [
      "Average value of all the sum of combinations is: 13"
     ]
    }
   ],
   "source": [
    "# use your own function to calculate the average value of all the sum of combinations\n",
    "avg <- function(dice1, dice2){\n",
    "  total_sum <- 0\n",
    "  total_combinations <- 0 \n",
    "  for (i in dice1){\n",
    "    for (j in dice2){\n",
    "      total_sum <- total_sum + (i+j)\n",
    "      total_combinations <- total_combinations+1\n",
    "    }\n",
    "  }\n",
    "  average <- total_sum/total_combinations\n",
    "  return(average)\n",
    "}\n",
    "\n",
    "cat(\"Average value of all the sum of combinations is:\",avg(dice1, dice2))"
   ]
  },
  {
   "cell_type": "markdown",
   "id": "48635fbc",
   "metadata": {},
   "source": [
    "### use your own function to find the maximum value of all the sum of combinations"
   ]
  },
  {
   "cell_type": "code",
   "execution_count": 14,
   "id": "b6335095",
   "metadata": {},
   "outputs": [
    {
     "name": "stdout",
     "output_type": "stream",
     "text": [
      "Maximum value of all the sum of combinations: 23"
     ]
    }
   ],
   "source": [
    "# find the maximum value of all the sum of combinations\n",
    "find_max <- function(dice1, dice2){\n",
    "  maximum <- 0\n",
    "  for (i in dice1){\n",
    "    for (j in dice2){\n",
    "      each_sum <- i+j\n",
    "      if (each_sum > maximum){ \n",
    "        maximum <- each_sum \n",
    "      }\n",
    "    }\n",
    "  }\n",
    "  return(maximum)\n",
    "}\n",
    "\n",
    "cat(\"Maximum value of all the sum of combinations:\",find_max(dice1, dice2))"
   ]
  },
  {
   "cell_type": "markdown",
   "id": "7023be14",
   "metadata": {},
   "source": [
    "### calculate the possibility of getting a sum of 15"
   ]
  },
  {
   "cell_type": "code",
   "execution_count": 15,
   "id": "d59a0e21",
   "metadata": {},
   "outputs": [
    {
     "name": "stdout",
     "output_type": "stream",
     "text": [
      "the possibility of getting a sum of 15: 0.1389"
     ]
    }
   ],
   "source": [
    "# calculate the possibility of getting a sum of 15\n",
    "sum_15  <- function(dice1, dice2){\n",
    "    sum_15 =0\n",
    "    total_combinations <- 0 \n",
    "  for (i in dice1){\n",
    "    for (j in dice2){\n",
    "        each_sum <- i+j\n",
    "        total_combinations <- total_combinations+1\n",
    "      if (each_sum == 15){\n",
    "          sum_15 = sum_15+1\n",
    "      } \n",
    "    }\n",
    "  }\n",
    "  sum_of_15 <- sum_15/total_combinations\n",
    "  sum_of_15_rounded = round(sum_of_15, 4)\n",
    "  return(sum_of_15_rounded)\n",
    "}\n",
    "\n",
    "cat(\"the possibility of getting a sum of 15:\",sum_15(dice1, dice2))"
   ]
  },
  {
   "cell_type": "markdown",
   "id": "1aa2672e",
   "metadata": {},
   "source": [
    "### calculate the possibility of getting a sum bigger than 15"
   ]
  },
  {
   "cell_type": "code",
   "execution_count": 16,
   "id": "1179ba1b",
   "metadata": {},
   "outputs": [
    {
     "name": "stdout",
     "output_type": "stream",
     "text": [
      "the possibility of getting a sum bigger than 15: 0.2778"
     ]
    }
   ],
   "source": [
    "sum_gre_15  <- function(dice1, dice2){\n",
    "    sum_gre_15 =0\n",
    "    total_combinations <- 0 \n",
    "  for (i in dice1){\n",
    "    for (j in dice2){\n",
    "        each_sum <- i+j\n",
    "        total_combinations <- total_combinations+1\n",
    "      if (each_sum > 15){\n",
    "          sum_gre_15 = sum_gre_15+1\n",
    "      } \n",
    "    }\n",
    "  }\n",
    "  sum_great_15 <- sum_gre_15/total_combinations\n",
    "  sum_great_15_rounded = round(sum_great_15, 4)\n",
    "  return(sum_great_15_rounded)\n",
    "}\n",
    "cat(\"the possibility of getting a sum bigger than 15:\",sum_gre_15(dice1, dice2))"
   ]
  },
  {
   "cell_type": "markdown",
   "id": "54af8b04",
   "metadata": {},
   "source": [
    "#### create a new S4 class and its new method? Create a laptop class, then create an Apple Macbook Pro object and define a show \n",
    "#### function to display its CPU type to demonstrate the process."
   ]
  },
  {
   "cell_type": "code",
   "execution_count": 17,
   "id": "1065d945",
   "metadata": {},
   "outputs": [
    {
     "name": "stdout",
     "output_type": "stream",
     "text": [
      "Battery: 5000 \n",
      " CPU type: intel \n",
      " RAM: 8"
     ]
    }
   ],
   "source": [
    "# first of all, set class using the set class function and the name of this class is laptop.\n",
    "setClass(\"Laptop\", slots=list(battery=\"numeric\",\n",
    "                              cputype=\"character\", \n",
    "                              ramGB = \"numeric\"))\n",
    "\n",
    "# creating an Apple MacBook Pro object of class laptop\n",
    "Apple_Macbook_Pro <- new(\"Laptop\",battery=5000,cputype=\"intel\",ramGB=8)\n",
    "\n",
    "# creating a show function to display its CPU\n",
    "setMethod(\"show\",\n",
    "          \"Laptop\",\n",
    "          function(object) {\n",
    "            cat(\"Battery:\",object@battery, \"\\n\", \n",
    "                \"CPU type:\",object@cputype, \"\\n\", \n",
    "                \"RAM:\",object@ramGB)\n",
    "          }\n",
    ")\n",
    "\n",
    "show(Apple_Macbook_Pro) # calling show function"
   ]
  },
  {
   "cell_type": "markdown",
   "id": "f8bb085f",
   "metadata": {},
   "source": [
    "#### Make a function to create 20 moving-sum numbers: 1, 2, 3, 5, 8, 13, 21, 34, …"
   ]
  },
  {
   "cell_type": "code",
   "execution_count": 19,
   "id": "38e7301a",
   "metadata": {},
   "outputs": [],
   "source": [
    "### the 1,2,3,5,8,13,21,34,55,89... this is  a Fibonacci series\n",
    "fib <- function(n){\n",
    "  Fibonacci <- numeric(n)\n",
    "  Fibonacci[1] = 1\n",
    "  Fibonacci[2] = 2\n",
    "  for (i in 3:20){\n",
    "    Fibonacci[i] = Fibonacci[i - 2] + Fibonacci[i - 1]  # In Fibonacci sequence, every number after the first two is the sum of the two preceding ones\n",
    "  }\n",
    "  vector_20 <- paste(Fibonacci)\n",
    "  vector_20 <- as.numeric(vector_20)\n",
    "  return(vector_20)\n",
    "}"
   ]
  },
  {
   "cell_type": "code",
   "execution_count": 20,
   "id": "fb968cbb",
   "metadata": {},
   "outputs": [
    {
     "name": "stdout",
     "output_type": "stream",
     "text": [
      "20 moving sum numbers are: 1 2 3 5 8 13 21 34 55 89 144 233 377 610 987 1597 2584 4181 6765 10946"
     ]
    }
   ],
   "source": [
    "n <- 20\n",
    "moving_sum <- fib(n) # calling fib function\n",
    "cat(\"20 moving sum numbers are:\",moving_sum)"
   ]
  },
  {
   "cell_type": "markdown",
   "id": "449fccb0",
   "metadata": {},
   "source": [
    "### How many even numbers"
   ]
  },
  {
   "cell_type": "code",
   "execution_count": 25,
   "id": "2ada557a",
   "metadata": {},
   "outputs": [
    {
     "name": "stdout",
     "output_type": "stream",
     "text": [
      "The even numbers in the moving sum are: 2 8 34 144 610 2584 10946\n",
      "The Total number of even numbers in the moving sum are: 7"
     ]
    }
   ],
   "source": [
    "even_no <- function(number){\n",
    "  vector <- c()\n",
    "  for (i in 1:length(number)){\n",
    "    if (number[i] %% 2 == 0){ # to ascertain if number is even\n",
    "      vector <- c(vector, number[i]) #populate the empty vector\n",
    "    }\n",
    "  }\n",
    "  vector  \n",
    "  #print(vector)\n",
    "  \n",
    "}\n",
    "\n",
    "even_numbers <- even_no(moving_sum) # calling the function\n",
    "cat(\"The even numbers in the moving sum are:\", even_numbers)\n",
    "\n",
    "len_even_NO= length(even_numbers)\n",
    "cat(\"\\n\")\n",
    "\n",
    "cat(\"The Total number of even numbers in the moving sum are:\",len_even_NO)"
   ]
  },
  {
   "cell_type": "markdown",
   "id": "364fbb8f",
   "metadata": {},
   "source": [
    "#### What is the total sum of these even numbers?"
   ]
  },
  {
   "cell_type": "code",
   "execution_count": 26,
   "id": "6ac8abd8",
   "metadata": {},
   "outputs": [
    {
     "name": "stdout",
     "output_type": "stream",
     "text": [
      "The total sum of even moving number is : 14328"
     ]
    }
   ],
   "source": [
    "count = 0 \n",
    "#using for loop \n",
    "for(i in even_numbers) { \n",
    "  if(i%%2==0) \n",
    "    count <<-count+i\n",
    "} \n",
    "cat(\"The total sum of even moving number is :\", count)"
   ]
  },
  {
   "cell_type": "code",
   "execution_count": null,
   "id": "54623de4",
   "metadata": {},
   "outputs": [],
   "source": []
  }
 ],
 "metadata": {
  "kernelspec": {
   "display_name": "R",
   "language": "R",
   "name": "ir"
  },
  "language_info": {
   "codemirror_mode": "r",
   "file_extension": ".r",
   "mimetype": "text/x-r-source",
   "name": "R",
   "pygments_lexer": "r",
   "version": "3.6.1"
  }
 },
 "nbformat": 4,
 "nbformat_minor": 5
}
