{
 "cells": [
  {
   "cell_type": "markdown",
   "id": "1ae3b48a-b93b-446a-95a0-1ee466d636d4",
   "metadata": {
    "id": "1ae3b48a-b93b-446a-95a0-1ee466d636d4"
   },
   "source": [
    "Q1: Python_assess_dataset1.csv text file contains some made-up data for a number of genes. Each line contains the following fields for a single gene: species name,\n",
    "sequence, gene name, and expression level. The fields are separated by commas (hence the name of the file – csv stands for Comma Separated Values). Think of it as a representation of\n",
    "a table in a spreadsheet – each line is a row, and each field in a line is a column"
   ]
  },
  {
   "cell_type": "markdown",
   "id": "37d2b3d2-7036-44fe-ae92-dc59f212f88b",
   "metadata": {
    "id": "37d2b3d2-7036-44fe-ae92-dc59f212f88b"
   },
   "source": [
    "(a)  Several species\n",
    "\n",
    "Print out the gene names for all genes belonging to Drosophila melanogaster or Drosophila"
   ]
  },
  {
   "cell_type": "code",
   "execution_count": null,
   "id": "b0565eb3-c54e-4b3b-8767-ca10e85bf5a7",
   "metadata": {
    "id": "b0565eb3-c54e-4b3b-8767-ca10e85bf5a7",
    "outputId": "91431ece-266a-4955-8a56-f79f79af99a3"
   },
   "outputs": [
    {
     "name": "stdout",
     "output_type": "stream",
     "text": [
      "The gene names for all genes belonging to Drosophila melanogaster or Drosophila ananassae are:\n",
      "kdy647\n",
      "jdg766\n",
      "hdu045\n",
      "teg436\n",
      "teg276\n"
     ]
    }
   ],
   "source": [
    "access_dataset = open(\"C:/Users/phili/Desktop/Archive-datasets/Python_assess_dataset.csv\",\"r\") # open and read the Python_assess_dataset.csv file\n",
    "\n",
    "access_dataset.readline() # reading the first line of the data set\n",
    "\n",
    "print(\"The gene names for all genes belonging to Drosophila melanogaster or Drosophila ananassae are:\")\n",
    "for line in access_dataset : # loop over the rest of the lines in the Python_assess_dataset\n",
    "  line = line.strip().split(\",\")# split line by comma to get species name, sequence, gene name and expres_lvl, since its a CSV file\n",
    "  species = line[0] # get species from the dataset\n",
    "  gene = line[2] # get gene_name from the dataset\n",
    "   # To check if species name is Drosophila melanogaster or Drosophila ananassae\n",
    "  if species == 'Drosophila melanogaster' or species == 'Drosophila ananassae':\n",
    "    print(gene)# print gene name\n",
    "    \n",
    "access_dataset.close() #close the python data set file \n"
   ]
  },
  {
   "cell_type": "markdown",
   "id": "bf8eaa93-45f5-44e2-a770-8b13643c025c",
   "metadata": {
    "id": "bf8eaa93-45f5-44e2-a770-8b13643c025c"
   },
   "source": [
    "(b). Length range\n",
    "\n",
    "Print out all the gene names with sequence lengths between 90 and 110 bases long."
   ]
  },
  {
   "cell_type": "code",
   "execution_count": null,
   "id": "f3db2296",
   "metadata": {
    "id": "f3db2296",
    "outputId": "4c7aec09-a0e5-4388-d9e5-696c88d2dca2"
   },
   "outputs": [
    {
     "name": "stdout",
     "output_type": "stream",
     "text": [
      "The gene names with sequence length between 90 and 110 bases long are:\n",
      "kdy647\n",
      "kdy533\n",
      "teg436\n"
     ]
    }
   ],
   "source": [
    "access_dataset = open(\"C:/Users/phili/Desktop/Archive-datasets/Python_assess_dataset.csv\") # open and the Python_assess_dataset.csv file\n",
    "\n",
    "access_dataset.readline() # reading the first line of the data set\n",
    "\n",
    "print(\"The gene names with sequence length between 90 and 110 bases long are:\")\n",
    "for line in access_dataset : # loop over the rest of the lines in the Python_assess_dataset\n",
    "    line = line.strip().split(\",\")# split line by comma to get species name, sequence, gene name and expres_lvl, since its a CSV file\n",
    "    sequence = line[1] # get sequence from the dataset \n",
    "    length = len(sequence) # store the length of the sequence in variable \"length\"\n",
    "    gene = line[2] # get gene_name from the dataset\n",
    "    if length >= 90 and length <= 110: # To check if sequence length is between 90 and 110\n",
    "       print(gene)\n",
    "        \n",
    " \n",
    "access_dataset.close()   #close the python data set file        \n",
    "\n"
   ]
  },
  {
   "cell_type": "markdown",
   "id": "910c8c6a-9b3b-4123-bb5e-aec0a257dc42",
   "metadata": {
    "id": "910c8c6a-9b3b-4123-bb5e-aec0a257dc42"
   },
   "source": [
    "This function calculates the AT content of a DNA Sequence"
   ]
  },
  {
   "cell_type": "code",
   "execution_count": null,
   "id": "6576a2e4-0868-4206-8075-747134361b5a",
   "metadata": {
    "id": "6576a2e4-0868-4206-8075-747134361b5a"
   },
   "outputs": [],
   "source": [
    "# this function calculates the AT Content of a DNA sequence\n",
    "def get_AT_content(dna, ndigits=2):\n",
    "    dna_sequence = dna.upper() # converts the given sequence from lower case to upper case\n",
    "    length = len(dna_sequence) # store the length of the sequence in variable \"length\"\n",
    "    A_count = dna_sequence.count('A') #count the number of \"A\" in the sequence\n",
    "    T_count = dna_sequence.count('T') #count the number of \"T\" in the sequence\n",
    "    AT_content = (A_count + T_count) / length \n",
    "    rounded_AT = round(AT_content, ndigits) #round the AT content to two significant figures\n",
    "    return rounded_AT"
   ]
  },
  {
   "cell_type": "markdown",
   "id": "abecd2f7-a29a-44c7-83b7-652b3bd18173",
   "metadata": {
    "id": "abecd2f7-a29a-44c7-83b7-652b3bd18173"
   },
   "source": [
    "(c).  AT content\n",
    "\n",
    "Print out the gene names for all genes whose AT content is less than 0.5 and whose expression level is greater than 200."
   ]
  },
  {
   "cell_type": "code",
   "execution_count": null,
   "id": "aa297134",
   "metadata": {
    "id": "aa297134",
    "outputId": "d9519b7a-ac65-4c6c-d54b-23fe210fd877"
   },
   "outputs": [
    {
     "name": "stdout",
     "output_type": "stream",
     "text": [
      "The gene names for all genes whose AT content is less than 0.5 and whose expression level is greater than 200 are:\n",
      "kdy566\n",
      "teg436\n"
     ]
    }
   ],
   "source": [
    "access_dataset = open(\"C:/Users/phili/Desktop/Archive-datasets/Python_assess_dataset.csv\") # open and the Python_assess_dataset.csv file\n",
    "\n",
    "access_dataset.readline() # reading the first line of the data set\n",
    "\n",
    "print(\"The gene names for all genes whose AT content is less than 0.5 and whose expression level is greater than 200 are:\")\n",
    "for line in access_dataset : # loop over the rest of the lines in the Python_assess_dataset\n",
    "    line = line.strip().split(\",\")# split line by comma to get species name, sequence, gene name and expres_lvl, since its a CSV file\n",
    "    sequence = line[1] # get sequence from the dataset\n",
    "    gene = line[2] # get gene_name from the dataset\n",
    "    exp_level = int(line[3]) # get the expression level from the data set and converts it into an integer\n",
    "    AT_content = get_AT_content(sequence)# calculate AT content using the previously defined function\n",
    "    \n",
    "    # To check gene whose AT content is less than 0.5 and expression level is greater than 200\n",
    "    if AT_content < 0.5 and exp_level >200:\n",
    "        print(gene) \n",
    "\n",
    "access_dataset.close()   #close the python data set file \n"
   ]
  },
  {
   "cell_type": "code",
   "execution_count": null,
   "id": "519b837d-5053-4f17-8e81-f26fa0e3a08a",
   "metadata": {
    "id": "519b837d-5053-4f17-8e81-f26fa0e3a08a"
   },
   "outputs": [],
   "source": [
    "(d).  Complex condition\n",
    "\n",
    "Print out the gene names for all genes whose name begins with \"k\" or \"h\" except those belonging to Drosophila melanogaster."
   ]
  },
  {
   "cell_type": "code",
   "execution_count": null,
   "id": "5810e1d6",
   "metadata": {
    "id": "5810e1d6",
    "outputId": "d0274cad-a2fa-4c0d-baa2-29dc9cf090a8"
   },
   "outputs": [
    {
     "name": "stdout",
     "output_type": "stream",
     "text": [
      "The gene names for all genes whose name begins with \"k\" or \"h\" except those belonging to Drosophila melanogaster are:\n",
      "kdy533\n",
      "kdy566\n",
      "hdt739\n",
      "hdt776\n",
      "hdu045\n"
     ]
    }
   ],
   "source": [
    "access_dataset = open(\"C:/Users/phili/Desktop/Archive-datasets/Python_assess_dataset.csv\",\"r\") # open and read the Python_assess_dataset.csv file\n",
    "\n",
    "access_dataset.readline() # reading the first line of the data set\n",
    "\n",
    "print('The gene names for all genes whose name begins with \"k\" or \"h\" except those belonging to Drosophila melanogaster are:')\n",
    "for line in access_dataset : # loop over the rest of the lines in the Python_assess_dataset\n",
    "  line = line.strip().split(\",\")# split line by comma to get species name, sequence, gene name and expres_lvl, since its a CSV file\n",
    "  species = line[0] # get species from the dataset\n",
    "  gene = line[2] # get gene_name from the dataset\n",
    " \n",
    "    # To check gene name that begins with \"k\" or \"h\" except those belonging to Drosophila melanogaster\n",
    "  if (gene[0] == 'k' or gene[0] == 'h') and species != 'Drosophila melanogaster':\n",
    "    print(gene) "
   ]
  },
  {
   "cell_type": "markdown",
   "id": "443df2d9-22bd-4f0e-84ad-c8ccf0b0a117",
   "metadata": {
    "id": "443df2d9-22bd-4f0e-84ad-c8ccf0b0a117"
   },
   "source": [
    "(e).  High low medium\n",
    "\n",
    "For each gene, print out a message giving the gene name and saying whether its AT content is high (greater than 0.65), low (less than 0.45) or medium (between 0.45 and 0.65)"
   ]
  },
  {
   "cell_type": "code",
   "execution_count": null,
   "id": "ec369965-3928-43aa-afbe-e145d9d63f85",
   "metadata": {
    "id": "ec369965-3928-43aa-afbe-e145d9d63f85",
    "outputId": "712942f6-25d9-4027-d68e-6db560ce20a9"
   },
   "outputs": [
    {
     "name": "stdout",
     "output_type": "stream",
     "text": [
      "The gene names for all genes whose name begins with \"k\" or \"h\" except those belonging to Drosophila melanogaster are:\n",
      "Gene kdy647 has a high AT content\n",
      "Gene jdg766 has a medium AT content\n",
      "Gene kdy533 has a medium AT content\n",
      "Gene kdy566 has a medium AT content\n",
      "Gene hdt739 has a low AT content\n",
      "Gene hdt776 has a low AT content\n",
      "Gene hdu045 has a medium AT content\n",
      "Gene teg436 has a medium AT content\n",
      "Gene teg276 has a low AT content\n"
     ]
    }
   ],
   "source": [
    "access_dataset = open(\"C:/Users/phili/Desktop/Archive-datasets/Python_assess_dataset.csv\",\"r\") # open and read the Python_assess_dataset.csv file\n",
    "\n",
    "access_dataset.readline() # reading the first line of the data set\n",
    "\n",
    "print('The gene names for all genes whose name begins with \"k\" or \"h\" except those belonging to Drosophila melanogaster are:')\n",
    "for line in access_dataset : # loop over the rest of the lines in the Python_assess_dataset\n",
    "  line = line.strip().split(\",\")# split line by comma to get species name, sequence, gene name and expres_lvl, since its a CSV file\n",
    "  species = line[0] # get species from the dataset\n",
    "  sequence = line[1] # get sequence from the dataset\n",
    "  gene = line[2] # get gene_name from the dataset\n",
    "  AT_content = get_AT_content(sequence)# calculate AT content using the previously defined function\n",
    " \n",
    "    \n",
    "  if AT_content > 0.65:  # to check if AT content is greater than 0.65\n",
    "       print(\"Gene \" + gene + \" has a high AT content\")\n",
    "  elif AT_content > 0.45:  # to check if AT content is less than 0.45\n",
    "       print(\"Gene \" + gene + \" has a medium AT content\")\n",
    "  else:                     # to check if AT content is between 0.45 and 0.65\n",
    "       print(\"Gene \" + gene + \" has a low AT content\")"
   ]
  },
  {
   "cell_type": "markdown",
   "id": "25fe808f-aaf0-4ff0-93e0-335d4c880184",
   "metadata": {
    "id": "25fe808f-aaf0-4ff0-93e0-335d4c880184"
   },
   "source": [
    "Q2. You have two dices with numbers of 1 to 6 on the surfaces, make codes to"
   ]
  },
  {
   "cell_type": "markdown",
   "id": "dcf42277-9df2-4a2c-93bf-b411c6061d28",
   "metadata": {
    "id": "dcf42277-9df2-4a2c-93bf-b411c6061d28"
   },
   "source": [
    "(a). print all the combinations of numbers from two dice"
   ]
  },
  {
   "cell_type": "code",
   "execution_count": null,
   "id": "a43c653d-cb0e-4213-a548-f6cbf8b11205",
   "metadata": {
    "id": "a43c653d-cb0e-4213-a548-f6cbf8b11205",
    "outputId": "4fa47013-f6e9-46f9-b8ff-11f1f290d754"
   },
   "outputs": [
    {
     "name": "stdout",
     "output_type": "stream",
     "text": [
      "All the combination of numbers from two dice are:\n",
      "[[1, 1], [1, 2], [1, 3], [1, 4], [1, 5], [1, 6], [2, 1], [2, 2], [2, 3], [2, 4], [2, 5], [2, 6], [3, 1], [3, 2], [3, 3], [3, 4], [3, 5], [3, 6], [4, 1], [4, 2], [4, 3], [4, 4], [4, 5], [4, 6], [5, 1], [5, 2], [5, 3], [5, 4], [5, 5], [5, 6], [6, 1], [6, 2], [6, 3], [6, 4], [6, 5], [6, 6]]\n"
     ]
    }
   ],
   "source": [
    "# A dice has 6 possible outcomes, so i created a range of numbers 1-7, with the last number not included.\n",
    "first_dice = range(1,7) # stores numbers from 1 to 6\n",
    "second_dice = range(1,7) # stores numbers from 1 to 6\n",
    "outcomes = [] # create an empty list of all possible outcomes\n",
    "\n",
    "# looping over all the values in first_die\n",
    "for i in first_dice :\n",
    "    # looping over all the values in second_die\n",
    "    for j in second_dice:\n",
    "        outcomes.append([i,j]) # appending each combination to outcome list\n",
    "print('All the combination of numbers from two dice are:')\n",
    "print(outcomes)"
   ]
  },
  {
   "cell_type": "markdown",
   "id": "7c54fa96-1f32-406d-af02-9ab270b616e4",
   "metadata": {
    "id": "7c54fa96-1f32-406d-af02-9ab270b616e4"
   },
   "source": [
    "(b). make your own function to calculate the average value of all the sum of combinations"
   ]
  },
  {
   "cell_type": "code",
   "execution_count": null,
   "id": "e0b37d00-3f3d-4006-afbf-63915d9315f0",
   "metadata": {
    "id": "e0b37d00-3f3d-4006-afbf-63915d9315f0",
    "outputId": "f237cb53-0c5f-45cd-e433-d91bed299212"
   },
   "outputs": [
    {
     "name": "stdout",
     "output_type": "stream",
     "text": [
      "The average value of all the sum of combinations is 7.0\n"
     ]
    }
   ],
   "source": [
    "# Answer 2 b\n",
    "\n",
    "def average_of_dice(first_dice, second_dice):\n",
    "    total_sum = 0 # total_sum will store the sum of all possible combinations\n",
    "    total_comb = 0 # tot_comb will store the number of all possible combinations\n",
    "    for i in first_dice:\n",
    "        for j in second_dice:\n",
    "            sum = i+j # calculating sum for each combination \n",
    "            total_sum += sum # adding sum it to previous value of total_sum variable\n",
    "            total_comb += 1 # adding 1 to total_comb with each iteration\n",
    "    # find0ing the average by divinding total_sum by total_comb\n",
    "    avg = total_sum/total_comb \n",
    "    return avg\n",
    "    \n",
    "average = average_of_dice(first_dice, second_dice) # calling the average_of_dice function\n",
    "print(f'The average value of all the sum of combinations is {average}')"
   ]
  },
  {
   "cell_type": "markdown",
   "id": "4efcba9e-1861-4bcc-bce5-0578f0362a50",
   "metadata": {
    "id": "4efcba9e-1861-4bcc-bce5-0578f0362a50"
   },
   "source": [
    "(c). make your own function to find the maximum value of all the sum of combinations"
   ]
  },
  {
   "cell_type": "code",
   "execution_count": null,
   "id": "7254f9cb-4d5b-4b6b-8a5d-97164b682770",
   "metadata": {
    "id": "7254f9cb-4d5b-4b6b-8a5d-97164b682770",
    "outputId": "acfeda4a-9dae-4d59-b677-a3c690b697f9"
   },
   "outputs": [
    {
     "name": "stdout",
     "output_type": "stream",
     "text": [
      "The maximum value of all the sum of combinations is 12\n"
     ]
    }
   ],
   "source": [
    "def max_sum(first_dice, second_dice):\n",
    "    maximum_sum = 0 # this will store the value of maximum sum\n",
    "    for i in first_dice:\n",
    "        for j in second_dice:\n",
    "            sum = i+j # calculating the sum for each combination\n",
    "            # check if sum is greater than maximum_sum\n",
    "            if sum>maximum_sum: \n",
    "                maximum_sum = sum # if True then maximum sum = sum\n",
    "    return maximum_sum\n",
    "\n",
    "maximum_sum = max_sum(first_dice, second_dice) # calling the max_sum  function\n",
    "print(f'The maximum value of all the sum of combinations is {maximum_sum}')"
   ]
  },
  {
   "cell_type": "markdown",
   "id": "9e445926-fa63-4038-8783-9d9b9474b247",
   "metadata": {
    "id": "9e445926-fa63-4038-8783-9d9b9474b247"
   },
   "source": [
    "Q3 Write python code to translate the following DNA sequence to amino acid sequence using the standard NCBI’s genetic code"
   ]
  },
  {
   "cell_type": "markdown",
   "id": "adcb218f-eed4-4489-b530-adbab5601be0",
   "metadata": {
    "id": "adcb218f-eed4-4489-b530-adbab5601be0"
   },
   "source": [
    "(a).  Write your own translation function to conduct the translation by using dictionary."
   ]
  },
  {
   "cell_type": "code",
   "execution_count": null,
   "id": "f340168f-18d0-453e-866b-7bd1ed382717",
   "metadata": {
    "id": "f340168f-18d0-453e-866b-7bd1ed382717",
    "outputId": "d904064d-8ace-4b37-b3fe-afd7898a2fe0"
   },
   "outputs": [
    {
     "name": "stdout",
     "output_type": "stream",
     "text": [
      "The possibility of getting a sum of six is 0.14\n"
     ]
    }
   ],
   "source": [
    "def find_possibilty_6(first_dice, second_dice):\n",
    "    total_comb = 0 # this will store the total number of combinations\n",
    "    comb_6 = 0 # this will store the number of times we get a combination with a sum of 6\n",
    "    for i in first_dice:\n",
    "        for j in second_dice:\n",
    "            total_comb += 1 # adding 1 to total_comb with each iteration\n",
    "            sum = i+j # calculating sum for each combination \n",
    "            #  check if the value of sum of a combination is equal to 6\n",
    "            if sum == 6:\n",
    "                comb_6 += 1 # if True then adding 1 to the value of comb_6\n",
    "    # calculating the possibility of getting the sum of a combination equal to 6\n",
    "    # by dividing number of times we get a combination with a sum of 6 by the total number of combinations\n",
    "    possibility_six = comb_6/total_comb \n",
    "    return possibility_six\n",
    "\n",
    "possibility_six = round(find_possibilty_6(first_dice, second_dice),2) # find_possibilty_6 function\n",
    "print(f'The possibility of getting a sum of six is {possibility_six}')"
   ]
  },
  {
   "cell_type": "code",
   "execution_count": null,
   "id": "a4d041d4-244c-476d-8846-72773c3480fe",
   "metadata": {
    "id": "a4d041d4-244c-476d-8846-72773c3480fe"
   },
   "outputs": [],
   "source": [
    "(b). Conduct 3-frame translation (forward) using both your own function and biopython method"
   ]
  },
  {
   "cell_type": "code",
   "execution_count": null,
   "id": "e24ebee1-66f8-4e6d-8208-840fff8f326d",
   "metadata": {
    "id": "e24ebee1-66f8-4e6d-8208-840fff8f326d",
    "outputId": "a0fbceee-e33a-462c-e5fa-d7bf53f72a55"
   },
   "outputs": [
    {
     "name": "stdout",
     "output_type": "stream",
     "text": [
      "The possibility of getting a sum greater than six is 0.58\n"
     ]
    }
   ],
   "source": [
    "def find_possibilty_greater_6(first_dice, second_dice):\n",
    "    total_comb = 0 # this will store the total number of combinations\n",
    "    comb_6 = 0 # this will store the number of times we get a combination with a sum greater than 6\n",
    "    for i in first_dice:\n",
    "        for j in second_dice:\n",
    "            total_comb += 1 # adding 1 to total_comb with each iteration\n",
    "            sum = i+j # calculating sum for each combination \n",
    "            #  check if the value of sum of a combination is greater than 6\n",
    "            if sum > 6:\n",
    "                comb_6 += 1 # if True then adding 1 to the value of comb_6\n",
    "    # calculating the possibility of getting the sum of a combination greater than 6\n",
    "    # by dividing number of times we get a combination with a sum greater than 6 by the total number of combinations\n",
    "    possibility_greater_six = comb_6/total_comb \n",
    "    return possibility_greater_six\n",
    "\n",
    "possibility_greater_six = round(find_possibilty_greater_6(first_dice, second_dice),2) # find_possibilty_6 function\n",
    "print(f'The possibility of getting a sum greater than six is {possibility_greater_six}')"
   ]
  },
  {
   "cell_type": "markdown",
   "id": "709ad550-ddf2-49d3-b510-ab4f9982bb68",
   "metadata": {
    "id": "709ad550-ddf2-49d3-b510-ab4f9982bb68"
   },
   "source": [
    "(c) Conduct 3-frame translation (reverse complement) using both your own function and bio-python method"
   ]
  },
  {
   "cell_type": "markdown",
   "id": "d3ea9066-09a4-4aec-b198-5d0a2115d1b1",
   "metadata": {
    "id": "d3ea9066-09a4-4aec-b198-5d0a2115d1b1"
   },
   "source": [
    "Q3 Write python code to translate the following DNA sequence to amino acid sequence using the standard NCBI’s genetic code"
   ]
  },
  {
   "cell_type": "code",
   "execution_count": null,
   "id": "9766bbcc-1669-4b9f-88bd-c58a9d12475a",
   "metadata": {
    "id": "9766bbcc-1669-4b9f-88bd-c58a9d12475a"
   },
   "outputs": [],
   "source": []
  },
  {
   "cell_type": "code",
   "execution_count": null,
   "id": "f44e83b1-c1b2-4ebe-901f-5d5f31b54ea2",
   "metadata": {
    "id": "f44e83b1-c1b2-4ebe-901f-5d5f31b54ea2",
    "outputId": "891792fc-2f6e-493c-edfc-b2094d1285d3"
   },
   "outputs": [
    {
     "name": "stdout",
     "output_type": "stream",
     "text": [
      "DNA Sequence:  GTCTCTACCTTGACAGACCTCCAGCCGTACATGCGACAGTTCGTGGCTCACCTGCAGGAGACCAGCCCGCTGAGGGATGCCGTCGTCATCGAGCAG\n"
     ]
    }
   ],
   "source": [
    "DNA_sequence = \"GTCTCTACCTTGACAGACCTCCAGCCGTACATGCGACAGTTCGTGGCTCACCTGCAGGAGACCAGCCCGCTGAGGGATGCCGTCGTCATCGAGCAG\"\n",
    "print(\"DNA Sequence: \",DNA_sequence)\n",
    "\n",
    "# dictionary of standard_genetic_code \n",
    "standard_genetic_code = {\n",
    "    'ATA':'I', 'ATC':'I', 'ATT':'I', 'ATG':'M',\n",
    "    'ACA':'T', 'ACC':'T', 'ACG':'T', 'ACT':'T',\n",
    "    'AAC':'N', 'AAT':'N', 'AAA':'K', 'AAG':'K',\n",
    "    'AGC':'S', 'AGT':'S', 'AGA':'R', 'AGG':'R',\n",
    "    'CTA':'L', 'CTC':'L', 'CTG':'L', 'CTT':'L',\n",
    "    'CCA':'P', 'CCC':'P', 'CCG':'P', 'CCT':'P',\n",
    "    'CAC':'H', 'CAT':'H', 'CAA':'Q', 'CAG':'Q',\n",
    "    'CGA':'R', 'CGC':'R', 'CGG':'R', 'CGT':'R',\n",
    "    'GTA':'V', 'GTC':'V', 'GTG':'V', 'GTT':'V',\n",
    "    'GCA':'A', 'GCC':'A', 'GCG':'A', 'GCT':'A',\n",
    "    'GAC':'D', 'GAT':'D', 'GAA':'E', 'GAG':'E',\n",
    "    'GGA':'G', 'GGC':'G', 'GGG':'G', 'GGT':'G',\n",
    "    'TCA':'S', 'TCC':'S', 'TCG':'S', 'TCT':'S',\n",
    "    'TTC':'F', 'TTT':'F', 'TTA':'L', 'TTG':'L',\n",
    "    'TAC':'Y', 'TAT':'Y', 'TAA':'_', 'TAG':'_',\n",
    "    'TGC':'C', 'TGT':'C', 'TGA':'_', 'TGG':'W'}\n",
    "\n",
    "# function Translate_dna takes DNA sequence as input and generates the protein sequence \n",
    "def Translate_dna(DNA_sequence, reading_frame):\n",
    "    codons = [] # this list will store all the codon triplets in our input DNA sequence\n",
    "\n",
    "    # creating codons from DNA sequence\n",
    "    for start in range(0,len(DNA_sequence),3):\n",
    "        trimer = DNA_sequence[start:start+3] # slicing DNA\n",
    "        codons.append(trimer) # appending codons to the codon list\n",
    "        \n",
    "    translated_dna = \"\" # this string will store our generated protein sequence\n",
    "\n",
    "    # Looping over the codons\n",
    "    for cod in codons:\n",
    "        #  check if each codon is a trimer\n",
    "        if len(cod) == 3:\n",
    "            translated_dna += standard_genetic_code[cod]\n",
    "\n",
    "\n",
    "    print(reading_frame + \": \" + translated_dna)"
   ]
  },
  {
   "cell_type": "code",
   "execution_count": null,
   "id": "bf3660dc-cbbb-4e31-a47d-2d3b138c0011",
   "metadata": {
    "id": "bf3660dc-cbbb-4e31-a47d-2d3b138c0011"
   },
   "outputs": [],
   "source": []
  },
  {
   "cell_type": "code",
   "execution_count": null,
   "id": "82a61e76",
   "metadata": {
    "id": "82a61e76",
    "outputId": "37057c78-bf24-49f3-b40c-d0310bf753d3"
   },
   "outputs": [
    {
     "name": "stdout",
     "output_type": "stream",
     "text": [
      "Conducting 3-frame translation (forward) using my own Translate_dna function:\n",
      "First reading frame: VSTLTDLQPYMRQFVAHLQETSPLRDAVVIEQ\n",
      "Second reading frame: SLP_QTSSRTCDSSWLTCRRPAR_GMPSSSS\n",
      "Third reading frame: LYLDRPPAVHATVRGSPAGDQPAEGCRRHRA\n",
      "\n"
     ]
    }
   ],
   "source": [
    "# Answer 3 b\n",
    "\n",
    "print('Conducting 3-frame translation (forward) using my own Translate_dna function:')\n",
    "\n",
    "\n",
    "# Calling the Translate_dna function \n",
    "Translate_dna(DNA_sequence,\"First reading frame\")\n",
    "Translate_dna(DNA_sequence[1:],\"Second reading frame\")\n",
    "Translate_dna(DNA_sequence[2:],\"Third reading frame\")\n",
    "\n",
    "print(\"\")\n",
    "\n"
   ]
  },
  {
   "cell_type": "code",
   "execution_count": null,
   "id": "3fa0f1a6-d50c-4a97-af89-347b60e3cde4",
   "metadata": {
    "id": "3fa0f1a6-d50c-4a97-af89-347b60e3cde4"
   },
   "outputs": [],
   "source": []
  },
  {
   "cell_type": "code",
   "execution_count": null,
   "id": "9a6fbed6-9df1-4568-88d0-6aad77a863d6",
   "metadata": {
    "id": "9a6fbed6-9df1-4568-88d0-6aad77a863d6",
    "outputId": "17b9938f-dea2-410e-fd6a-7ca66765ce9e"
   },
   "outputs": [
    {
     "name": "stdout",
     "output_type": "stream",
     "text": [
      "Conducting 3-frame translation (forward) using Biopython method:\n",
      "First reading frame:  VSTLTDLQPYMRQFVAHLQETSPLRDAVVIEQ\n",
      "Second reading frame:  SLP*QTSSRTCDSSWLTCRRPAR*GMPSSSS\n",
      "Third reading frame:  LYLDRPPAVHATVRGSPAGDQPAEGCRRHRA\n"
     ]
    }
   ],
   "source": [
    "from Bio.Seq import Seq\n",
    "print('Conducting 3-frame translation (forward) using Biopython method:')\n",
    "Dna_seq_object = Seq(DNA_sequence) # making a Seq object from the string DNA_sequence\n",
    "print('First reading frame: ',Dna_seq_object.translate())\n",
    "print('Second reading frame: ',Dna_seq_object[1:].translate())\n",
    "print('Third reading frame: ',Dna_seq_object[2:].translate())"
   ]
  },
  {
   "cell_type": "code",
   "execution_count": null,
   "id": "db4b1e59-0e33-4449-8fca-4dbb068c25c6",
   "metadata": {
    "id": "db4b1e59-0e33-4449-8fca-4dbb068c25c6"
   },
   "outputs": [],
   "source": [
    "# Answer 3 c\n",
    "\n",
    "# function to find reverse complement of DNA sequence\n",
    "def find_reverse_complement(DNA_sequence):\n",
    "    complement = \"\" # # complememnt stores our complement dna sequence\n",
    "    \n",
    "    # Looping over the DNA sequence\n",
    "    for base in DNA_sequence:\n",
    "        # check if base is A\n",
    "        if base == \"A\":\n",
    "            complement = complement + \"T\" # add T to the complement\n",
    "        # check if base is T \n",
    "        elif base == \"T\":\n",
    "            complement = complement + \"A\" # add A to the complement\n",
    "        # check if base is G \n",
    "        elif base == \"G\":\n",
    "            complement = complement + \"C\" # add C to the complement\n",
    "        # if all above statements are False, then base is a C\n",
    "        else:\n",
    "            complement = complement + \"G\" # add G to the complement\n",
    "\n",
    "    # reverse_complement stores the reverse of the complement dna sequence\n",
    "    reverse_complement = complement[::-1] \n",
    "    return reverse_complement # returning the reverse complement\n",
    "\n",
    "\n",
    "print('Conducting 3-frame translation (reverse complement) using my own Translator function:')\n",
    "\n",
    "Translate_dna(find_reverse_complement(DNA_sequence),\"Fourth reading frame\")\n",
    "\n",
    "# Fifth reading frame\n",
    "Translate_dna(find_reverse_complement(DNA_sequence)[1:],\"Fifth reading frame\")\n",
    "\n",
    "# Sixth reading frame\n",
    "Translate_dna(find_reverse_complement(DNA_sequence)[2:],\"Sixth reading frame\")\n",
    "\n",
    "print(\"\")\n",
    "\n"
   ]
  },
  {
   "cell_type": "code",
   "execution_count": null,
   "id": "077b788d-4ccd-41e6-b0f5-9f8718039c67",
   "metadata": {
    "id": "077b788d-4ccd-41e6-b0f5-9f8718039c67"
   },
   "outputs": [],
   "source": []
  },
  {
   "cell_type": "code",
   "execution_count": null,
   "id": "10d785d8-f495-4101-80e8-50a8c8144586",
   "metadata": {
    "id": "10d785d8-f495-4101-80e8-50a8c8144586"
   },
   "outputs": [],
   "source": [
    "from Bio.Seq import Seq\n",
    "print('Conducting 3-frame translation (reverse complement) using Biopython method:')\n",
    "reverse_complement_Dna_seq_object = Dna_seq_object.reverse_complement()\n",
    "print('Fourth reading frame: ',reverse_complement_Dna_seq_object.translate())\n",
    "print('Fifth reading frame: ',reverse_complement_Dna_seq_object[1:].translate())\n",
    "print('Sixth reading frame: ',reverse_complement_Dna_seq_object[2:].translate())"
   ]
  },
  {
   "cell_type": "code",
   "execution_count": null,
   "id": "54807df9-558d-40d6-807c-f06c5337201a",
   "metadata": {
    "id": "54807df9-558d-40d6-807c-f06c5337201a"
   },
   "outputs": [],
   "source": []
  },
  {
   "cell_type": "code",
   "execution_count": null,
   "id": "294f92a0-29d3-4b62-9b23-8cfc8327a171",
   "metadata": {
    "id": "294f92a0-29d3-4b62-9b23-8cfc8327a171",
    "outputId": "01ae8e5b-6ee1-475a-ef1d-9d1ff175c09d"
   },
   "outputs": [
    {
     "name": "stdout",
     "output_type": "stream",
     "text": [
      "Translated exon: DPGPRCP_VWLRGELAEDSGELPCRRRGPGWHGFCSDAGPRPIPLVRPAAGYPDPGGAERLLQ\n"
     ]
    }
   ],
   "source": [
    "# Answer 3 d\n",
    "\n",
    "# reading input file in read mode\n",
    "fasta_line = open('C:/Users/phili/Desktop/Archive-datasets/NM_198253.3_sequence.fasta','r')\n",
    "\n",
    "sequence = \"\" # sequence variable will store the sequence for fasta in our single fasta file\n",
    "\n",
    "# reading the fasta file using the for loop\n",
    "for line in fasta_line:\n",
    "    # check if line is a header\n",
    "    if \">\" in line:\n",
    "        continue # if true then continue the loop\n",
    "    # if line is not header then remove '\\n' from the line and concatenate line to sequence variable\n",
    "    else:\n",
    "        line = line.rstrip(\"\\n\")\n",
    "        sequence = sequence+line\n",
    "\n",
    "# closing the input file\n",
    "fasta_line.close()\n",
    "\n",
    "# getting the exon from sequence using indexes\n",
    "exon = sequence[2733:2922] \n",
    "\n",
    "# translating the exon using Translate_dna function\n",
    "Translate_dna(exon, 'Translated exon') # calling Translator function to translate the exon"
   ]
  },
  {
   "cell_type": "code",
   "execution_count": null,
   "id": "c2f46084-9e1b-44c1-8171-f20395e4cce0",
   "metadata": {
    "id": "c2f46084-9e1b-44c1-8171-f20395e4cce0"
   },
   "outputs": [],
   "source": []
  },
  {
   "cell_type": "code",
   "execution_count": null,
   "id": "d76df6b3-a752-4b6c-a8ef-f478a6c3d2b3",
   "metadata": {
    "id": "d76df6b3-a752-4b6c-a8ef-f478a6c3d2b3",
    "outputId": "14227758-89d5-4a73-8f91-ac861448efae"
   },
   "outputs": [
    {
     "name": "stdout",
     "output_type": "stream",
     "text": [
      "NC_045512.2, length = 29903, AT_content = 0.62%\n",
      "LR757995.1, length = 29872, AT_content = 0.62%\n",
      "LR757996.1, length = 29868, AT_content = 0.62%\n",
      "LR757998.1, length = 29866, AT_content = 0.62%\n",
      "MW181765.1, length = 29782, AT_content = 0.59%\n",
      "MW181750.1, length = 29782, AT_content = 0.62%\n"
     ]
    }
   ],
   "source": [
    "# Answer 4\n",
    "\n",
    "# reading input file in read mode\n",
    "Covid19_6files = open('C:/Users/phili/Desktop/Archive-datasets/Covid19_6files.fasta','r')\n",
    "\n",
    "sequence = \"\" # sequence variable will store the sequence for each fasta in our multi fasta file\n",
    "\n",
    "# reading the fasta file using the for loop\n",
    "for line in Covid19_6files:\n",
    "    # remomving '\\n' from the line\n",
    "    line = line.rstrip(\"\\n\") \n",
    "   \n",
    "    if \">\" in line: # if line is a header\n",
    "        line = line.lstrip(\">\") # remove the '>' symbol from the line\n",
    "        accession_no = line.split()[0] # split the line and fetch the first element from the list i.e. accession number\n",
    "        if sequence != \"\": # check if seq is an empty string or not, if it is not an empty string then,\n",
    "            length = len(sequence) # fnding length of the sequence\n",
    "            cnt_AT = sequence.count('A') + sequence.count('T') # findin count of AT in the sequence\n",
    "            AT_cont = cnt_AT/length # finding AT content for the sequence\n",
    "            print(f'length = {length}, AT_content = {round(AT_cont,2)}%') # printing in the required format\n",
    "            sequence = \"\" # again intialising seq as an empty string to store the next sequence\n",
    "        \n",
    "        print(accession_no+\", \", end=\"\")\n",
    "    \n",
    "    # if line is not header, then concatenating line to seq variable\n",
    "    else:\n",
    "        sequence = sequence+line \n",
    "\n",
    "\n",
    "length = len(sequence) # finding length for the last fasta sequence\n",
    "cnt_AT = sequence.count('A') + sequence.count('T') # finding count of AT for the last fasta sequence\n",
    "AT_cont = cnt_AT/length # finding AT content for the last fasta sequence\n",
    "print(f'length = {length}, AT_content = {round(AT_cont,2)}%')\n",
    "\n",
    "Covid19_6files.close()"
   ]
  },
  {
   "cell_type": "code",
   "execution_count": null,
   "id": "rjdlUKDFvkYC",
   "metadata": {
    "id": "rjdlUKDFvkYC"
   },
   "outputs": [],
   "source": []
  },
  {
   "cell_type": "code",
   "execution_count": null,
   "id": "0bab9eeb-a361-4832-aebb-48d9bb7fd4a5",
   "metadata": {
    "id": "0bab9eeb-a361-4832-aebb-48d9bb7fd4a5"
   },
   "outputs": [],
   "source": []
  },
  {
   "cell_type": "code",
   "execution_count": null,
   "id": "6021fe34",
   "metadata": {
    "id": "6021fe34"
   },
   "outputs": [],
   "source": []
  },
  {
   "cell_type": "code",
   "execution_count": null,
   "id": "31a3563a",
   "metadata": {
    "id": "31a3563a"
   },
   "outputs": [],
   "source": []
  }
 ],
 "metadata": {
  "colab": {
   "provenance": []
  },
  "kernelspec": {
   "display_name": "Python 3 (ipykernel)",
   "language": "python",
   "name": "python3"
  },
  "language_info": {
   "codemirror_mode": {
    "name": "ipython",
    "version": 3
   },
   "file_extension": ".py",
   "mimetype": "text/x-python",
   "name": "python",
   "nbconvert_exporter": "python",
   "pygments_lexer": "ipython3",
   "version": "3.10.9"
  }
 },
 "nbformat": 4,
 "nbformat_minor": 5
}
