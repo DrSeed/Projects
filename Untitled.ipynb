{
 "cells": [
  {
   "cell_type": "code",
   "execution_count": 4,
   "id": "1a6170fc",
   "metadata": {},
   "outputs": [
    {
     "ename": "ERROR",
     "evalue": "Error in library(tidyverse): there is no package called 'tidyverse'\n",
     "output_type": "error",
     "traceback": [
      "Error in library(tidyverse): there is no package called 'tidyverse'\nTraceback:\n",
      "1. library(tidyverse)"
     ]
    }
   ],
   "source": [
    "library(tidyverse)\n",
    "library(caret)\n",
    "library(randomForest)\n",
    "library(gbm)\n",
    "\n",
    "# Load the data\n",
    "data <- read.csv(\"Dataset_10zyme.csv\")"
   ]
  },
  {
   "cell_type": "code",
   "execution_count": null,
   "id": "8312fe4a",
   "metadata": {},
   "outputs": [],
   "source": [
    "head(data)"
   ]
  },
  {
   "cell_type": "code",
   "execution_count": null,
   "id": "a62971b1",
   "metadata": {},
   "outputs": [],
   "source": [
    "data <- data[-1, ]\n",
    "\n",
    "# Convert efficiencies to numeric values\n",
    "data$Efficiency.1 <- as.numeric(data$Efficiency.1)\n",
    "data$Efficiency.2 <- as.numeric(data$Efficiency.2)\n",
    "data$Efficiency.3 <- as.numeric(data$Efficiency.3)\n",
    "\n",
    "# Average the efficiencies\n",
    "data$Avg_Efficiency <- rowMeans(data[,c(\"Efficiency.1\", \"Efficiency.2\", \"Efficiency.3\")])"
   ]
  },
  {
   "cell_type": "code",
   "execution_count": null,
   "id": "433b95ab",
   "metadata": {},
   "outputs": [],
   "source": [
    "\n",
    "\n"
   ]
  }
 ],
 "metadata": {
  "kernelspec": {
   "display_name": "R",
   "language": "R",
   "name": "ir"
  },
  "language_info": {
   "codemirror_mode": "r",
   "file_extension": ".r",
   "mimetype": "text/x-r-source",
   "name": "R",
   "pygments_lexer": "r",
   "version": "3.6.1"
  }
 },
 "nbformat": 4,
 "nbformat_minor": 5
}
