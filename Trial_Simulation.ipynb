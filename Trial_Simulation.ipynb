{
 "cells": [
  {
   "cell_type": "markdown",
   "id": "ba8a452d",
   "metadata": {},
   "source": [
    "# Trial simulation computational practical\n",
    "\n",
    "<hr style=\"border:1px solid gray\">\n",
    "\n",
    "\n",
    "\n",
    "### The Problem\n",
    "The trials I will simulate is investigating the impact of some treatment $T$ on the survival rate of a deadly disease. We will analyze our trial data using logistic regression, which means modelling the probability of death as a logistic function of $T$\n",
    "\n",
    "$$ P(D=1|T) = \\left[1+\\exp\\left(-\\beta_0 - \\beta_1 T\\right)\\right]^{-1}, $$\n",
    "\n",
    "where $D=1,0$ denotes death/survival and $T=1,0$ denotes treatment/no treatment. With this form of the probability the odds of death, defined as the ratio of death probability to survival probability, are given by\n",
    "\n",
    "$$ \\text{Odds}(D=1|T) = \\frac{P(D=1|T)}{P(D=0|T)} = \\exp\\left(\\beta_0 + \\beta_1 T\\right).$$\n",
    "\n",
    "The odds ratio between the treated and untreated groups is then the exponential of the regression coefficient of $T$\n",
    "\n",
    "$$ OR = \\frac{\\text{Odds}(D=1|T=1)}{\\text{Odds}(D=1|T=0)} = \\exp\\left(\\beta_1\\right).$$\n",
    "\n",
    "The OR - in principle - tells us the average effect of the treatment in the sample. If the treatment improves each patient's chance of survival then we should find $OR < 1$, while $OR=1$ indicates no treatment effect, and $OR>1$ indicates that the treatment worsens survival odds. To see if our OR is statistically significant compared to one, we will compare the p-value of the regression estimate $\\hat{\\beta}_1$ to some significance threshold $\\alpha$ (conventionally $\\alpha=0.05$).\n",
    "\n",
    "The steps of each simulated trial will be as follows:\n",
    "1. Generate simulated trial data\n",
    "2. Analyze the data using logistic regression\n",
    "3. Extract $\\hat{\\beta}_1$, and its p-value and confidence interval, from the regression\n",
    "4. Determine if the trial was a success ($OR < 1$ and $p < \\alpha$)\n",
    "\n",
    "### Package import\n",
    "First, we import any packages we might need."
   ]
  },
  {
   "cell_type": "code",
   "execution_count": 1,
   "id": "b1be3525",
   "metadata": {},
   "outputs": [],
   "source": [
    "import numpy as np\n",
    "import pandas as pd \n",
    "import matplotlib.pyplot as plt \n",
    "import statsmodels.api as sm "
   ]
  },
  {
   "cell_type": "markdown",
   "id": "28f841ca",
   "metadata": {},
   "source": [
    "### Global variables\n",
    "Here is where I will set parameters common to all our simulations."
   ]
  },
  {
   "cell_type": "code",
   "execution_count": 2,
   "id": "2691f5b0",
   "metadata": {},
   "outputs": [],
   "source": [
    "nPatients = 1000 # Number of patients in each trial\n",
    "\n",
    "controlDeathProb = 0.5 # Probability of mortality with no treatment\n",
    "treatmentRelativeRisk = 0.75 # Factor by which treatment reduces your probability of death\n",
    "treatmentDeathProb = controlDeathProb*treatmentRelativeRisk # Probability of death with treatment\n",
    "\n",
    "nSims = 1000 # Number of times we will simulate each trial\n",
    "statSigThreshold = 0.05 # statistical significance threshold for p values and confidence intervals"
   ]
  },
  {
   "cell_type": "markdown",
   "id": "905752ea",
   "metadata": {},
   "source": [
    "It's also worth here looking at the true odds ratio to compare estimates later on."
   ]
  },
  {
   "cell_type": "code",
   "execution_count": 33,
   "id": "5ddbb6de",
   "metadata": {},
   "outputs": [
    {
     "name": "stdout",
     "output_type": "stream",
     "text": [
      "True odds ratio = 0.6\n"
     ]
    }
   ],
   "source": [
    "controlDeathOdds = controlDeathProb/(1-controlDeathProb)\n",
    "treatmentDeathOdds = treatmentDeathProb/(1-treatmentDeathProb)\n",
    "trueOddsRatio = treatmentDeathOdds/controlDeathOdds\n",
    "print('True odds ratio =',trueOddsRatio)"
   ]
  },
  {
   "cell_type": "markdown",
   "id": "e6320780",
   "metadata": {},
   "source": [
    "### Regression function\n",
    "This function will compute logistic regression, and return the odds ratio, p value, and confidence interval of the first coefficient after the intercept."
   ]
  },
  {
   "cell_type": "code",
   "execution_count": 3,
   "id": "36c8c11f",
   "metadata": {},
   "outputs": [],
   "source": [
    "def myLogisticRegression(x,y,confIntThreshold = statSigThreshold):\n",
    "    xWithIntercept = sm.add_constant(x)\n",
    "    regression = sm.Logit(y,xWithIntercept).fit(disp=0)\n",
    "    \n",
    "    oddsRatio = np.exp(regression.params[1])\n",
    "    \n",
    "    # statsmodels calculates a two-sided p value, whereas we want a one-sided one.\n",
    "    # The quick and dirty way to correct this is to just divide by 2!\n",
    "    pValue = regression.pvalues[1]/2.\n",
    "    lowerCI, upperCI = np.exp(regression.conf_int(confIntThreshold)[1])\n",
    "    \n",
    "    return oddsRatio, pValue, lowerCI, upperCI"
   ]
  },
  {
   "cell_type": "markdown",
   "id": "78958b22",
   "metadata": {},
   "source": [
    "### Trial success function\n",
    "This function will compute the success of simulated trials given their odds ratios and p-values, according to some statistical significance threshold. It will then display the number of successful and unsuccessful trials and plot them on a bar chart."
   ]
  },
  {
   "cell_type": "code",
   "execution_count": 4,
   "id": "b2e19044",
   "metadata": {},
   "outputs": [],
   "source": [
    "def determineSuccess(oddsRatio, pValue, pValThreshold = statSigThreshold, display = True):\n",
    "    success = ((oddsRatio < 1) & (pValue < pValThreshold)).astype(int)\n",
    "    \n",
    "    if display:\n",
    "        successCounts = pd.Series(success).value_counts()\n",
    "        successCounts.index = successCounts.index.map({0: 'Failure', 1: 'Success'})\n",
    "        print(successCounts)\n",
    "        successCounts.plot(kind=\"barh\")\n",
    "    return success"
   ]
  },
  {
   "cell_type": "markdown",
   "id": "2d8ad7ad",
   "metadata": {},
   "source": [
    "<hr style=\"border:1px solid gray\">\n",
    "\n",
    "## Simulating an RCT\n",
    "First, we will simulate a bunch of randomised controlled trials (RCTs). We'll start by initializing a dataframe with `nSims` rows which will store the odds ratio, p-value, and $95$% confidence interval of each trial, as well as whether that trial was a success."
   ]
  },
  {
   "cell_type": "code",
   "execution_count": 36,
   "id": "8375c5cd",
   "metadata": {},
   "outputs": [],
   "source": [
    "RCTs = pd.DataFrame(\n",
    "    columns=['OR','pVal','LCI','UCI','success'],\n",
    "    index = range(nSims)\n",
    ")\n",
    "# OR = Odds ratio of death between treatment and control groups\n",
    "# pVal = p value for odds ratio\n",
    "# success =  Did the trial measure a positive, statistically significant treatment effect?\n",
    "# [LCI, UCI] = 95% confidence interval for odds ratio"
   ]
  },
  {
   "cell_type": "markdown",
   "id": "f8d45a40",
   "metadata": {},
   "source": [
    "Now we initialize numpy's random number generator, and run the simulations. Setting the seed to a definite value means we will get the same sequence of simulations every time. If you want to keep re-running the for-loop and get a new set of results every time then set the seed to `None`."
   ]
  },
  {
   "cell_type": "code",
   "execution_count": 37,
   "id": "6eef4429",
   "metadata": {},
   "outputs": [
    {
     "name": "stdout",
     "output_type": "stream",
     "text": [
      "Success    985\n",
      "Failure     15\n",
      "dtype: int64\n"
     ]
    },
    {
     "data": {
      "image/png": "[encoded data removed]",
      "text/plain": [
       "<Figure size 432x288 with 1 Axes>"
      ]
     },
     "metadata": {
      "needs_background": "light"
     },
     "output_type": "display_data"
    }
   ],
   "source": [
    "seed = 42\n",
    "rng = np.random.default_rng(seed)\n",
    "\n",
    "for i in range(nSims):\n",
    "\n",
    "    treatment = np.tile([0,1],int(0.5*nPatients))\n",
    "    \n",
    "    deathProb = np.full(nPatients, controlDeathProb)\n",
    "    deathProb[treatment==1] = treatmentDeathProb\n",
    "    deathOutcome = rng.binomial(1, deathProb)\n",
    "\n",
    "    RCTs.loc[i,['OR','pVal','LCI','UCI']] = myLogisticRegression(treatment, deathOutcome)\n",
    "\n",
    "RCTs.success = determineSuccess(RCTs.OR, RCTs.pVal, statSigThreshold)"
   ]
  },
  {
   "cell_type": "markdown",
   "id": "20aa630e",
   "metadata": {},
   "source": [
    "A vast majority of our trials are successes, so our studies have enough statistical power to measure a treatment effect of this size.\n",
    "### With a covariate: patient age\n",
    "I am going to add in patient age as a covariate that affects their outcome. First I will choose a random distribution for this variable, and for simplicity I will use a uniform distribution. In this code I will implement this with the line `age = rng.uniform(minAge,maxAge,nPatients)` so lets first set these minimum and maximum age variables."
   ]
  },
  {
   "cell_type": "code",
   "execution_count": 38,
   "id": "7502b838",
   "metadata": {},
   "outputs": [],
   "source": [
    "minAge = 18\n",
    "maxAge = 80"
   ]
  },
  {
   "cell_type": "markdown",
   "id": "4bb5f740",
   "metadata": {},
   "source": [
    "Now I need to decide how age is going to impact mortality. As a very basic example, let's assume the fatality of this disease suddenly increases above a certain age, `ageDeathThreshold`. This means I'll need the following variables."
   ]
  },
  {
   "cell_type": "code",
   "execution_count": 39,
   "id": "648025bf",
   "metadata": {},
   "outputs": [],
   "source": [
    "ageDeathThreshold = 28\n",
    "youngDeathProb = 0.1\n",
    "oldDeathProb = 0.5"
   ]
  },
  {
   "cell_type": "markdown",
   "id": "d343644a",
   "metadata": {},
   "source": [
    "Now i will make a new dataframe and re-initialize the RNG, then run new simulated RCTs with outcome now dependent on age."
   ]
  },
  {
   "cell_type": "code",
   "execution_count": 40,
   "id": "564fb2af",
   "metadata": {},
   "outputs": [
    {
     "name": "stdout",
     "output_type": "stream",
     "text": [
      "Success    960\n",
      "Failure     40\n",
      "dtype: int64\n"
     ]
    },
    {
     "data": {
      "image/png": "[encoded data removed]",
      "text/plain": [
       "<Figure size 432x288 with 1 Axes>"
      ]
     },
     "metadata": {
      "needs_background": "light"
     },
     "output_type": "display_data"
    }
   ],
   "source": [
    "RCTsCov = pd.DataFrame(\n",
    "    columns=['OR','pVal','LCI','UCI','success'],\n",
    "    index = range(nSims)\n",
    ")\n",
    "\n",
    "seed = 42\n",
    "rng = np.random.default_rng(seed)\n",
    "\n",
    "for i in range(nSims):\n",
    "\n",
    "    treatment = np.tile([0,1],int(0.5*nPatients))\n",
    "\n",
    "    age = rng.uniform(minAge, maxAge, nPatients)\n",
    "        \n",
    "    deathProb = np.zeros(nPatients)\n",
    "    deathProb[age < ageDeathThreshold] = youngDeathProb\n",
    "    deathProb[age >= ageDeathThreshold] = oldDeathProb\n",
    "    deathProb[treatment==1] *= treatmentRelativeRisk\n",
    "    deathOutcome = rng.binomial(1, deathProb)\n",
    "\n",
    "    RCTsCov.loc[i,['OR','pVal','LCI','UCI']] = myLogisticRegression(treatment, deathOutcome)\n",
    "\n",
    "RCTsCov.success = determineSuccess(RCTsCov.OR, RCTsCov.pVal, statSigThreshold)"
   ]
  },
  {
   "cell_type": "markdown",
   "id": "38daa1af",
   "metadata": {},
   "source": [
    "There is  a lot more failed trials but the overall success rate is still very good.\n",
    "\n",
    "<hr style=\"border:1px solid gray\">\n",
    "\n",
    "## Simulating an observational study\n",
    "Let's see what happens when treatment isn't completely randomized and instead depends on age, as it likely would in an observational study. This will introduce confounding bias since age is going to affect both outcome and treatment status, leading to correlations between the two.\n",
    "\n",
    "We are going to look at a very simple scenario where treatment is only given to people above a certain age, and it is randomly assigned to half of these patients. For an extra simplification I am going to make this minimum treatment age equal to the death threshold age."
   ]
  },
  {
   "cell_type": "code",
   "execution_count": 48,
   "id": "84698286",
   "metadata": {},
   "outputs": [],
   "source": [
    "minAge = 18\n",
    "maxAge = 80\n",
    "ageDeathThreshold = 28\n",
    "youngDeathProb = 0.05\n",
    "oldDeathProb = 0.6\n",
    "\n",
    "minTreatmentAge = ageDeathThreshold"
   ]
  },
  {
   "cell_type": "markdown",
   "id": "2e2a8f85",
   "metadata": {},
   "source": [
    "Now lets re-initialize then run our observational simulations."
   ]
  },
  {
   "cell_type": "code",
   "execution_count": null,
   "id": "1e41d423",
   "metadata": {},
   "outputs": [],
   "source": [
    "ObsTrials = pd.DataFrame(\n",
    "    columns=['OR','pVal','LCI','UCI','success'],\n",
    "    index = range(nSims)\n",
    ")\n",
    "\n",
    "seed = 42\n",
    "rng = np.random.default_rng(seed)\n",
    "\n",
    "for i in range(nSims):\n",
    "    \n",
    "    treatment = np.tile([0,1],int(0.5*nPatients))\n",
    "    \n",
    "    age = rng.uniform(minAge,maxAge,nPatients)\n",
    "\n",
    "    treatment[age < minTreatmentAge] = 0\n",
    "    \n",
    "    deathProb = np.zeros(nPatients)\n",
    "    deathProb[age < ageDeathThreshold] = youngDeathProb\n",
    "    deathProb[age >= ageDeathThreshold] = oldDeathProb\n",
    "    deathProb[treatment==1] *= treatmentRelativeRisk\n",
    "    deathOutcome = rng.binomial(1, deathProb)\n",
    "\n",
    "    ObsTrials.loc[i,['OR','pVal','LCI','UCI']] = myLogisticRegression(treatment, deathOutcome)\n",
    "    \n",
    "ObsTrials.success = determineSuccess(ObsTrials.OR, ObsTrials.pVal, statSigThreshold)"
   ]
  },
  {
   "cell_type": "markdown",
   "id": "1d052568",
   "metadata": {},
   "source": [
    "We almost exclusively have failed trials! Why is this? Let's look at the odds ratios from these regressions."
   ]
  },
  {
   "cell_type": "code",
   "execution_count": 50,
   "id": "07a58658",
   "metadata": {
    "scrolled": false
   },
   "outputs": [
    {
     "data": {
      "image/png": "[encoded data removed]",
      "text/plain": [
       "<Figure size 432x288 with 1 Axes>"
      ]
     },
     "metadata": {
      "needs_background": "light"
     },
     "output_type": "display_data"
    }
   ],
   "source": [
    "counts, binEdges, patches =  plt.hist(ObsTrials.OR, bins = 100)"
   ]
  },
  {
   "cell_type": "markdown",
   "id": "e7f790dd",
   "metadata": {},
   "source": [
    "Lots of the odds ratios are greater than one, suggesting a negative treatment effect. The reason we are seeing this is because in the observational data treatment is negatively correlated with survival. Essentially, the logistic regression models are learning that in this \"real\" healthcare scenario treatment predicts death - not because the treatment kills people but because the patients receiving the treatment are the ones that have a higher chance of dying.\n",
    "\n",
    "### Including the covariate in the model\n",
    "The solution to this problem is somewhat obvious: we should exclude patients younger than `minTreatmentAge` from the observational sample. This kind of restricted inclusion criteria is often used in practice (e.g., including only non-smokers in a study), although it limits sample size and makes results only applicable to the restricted population. However, imagine we don't know none of our younger patients are receiving the treatment, but we do suspect age to be a confounding variable. One way we might try to improve our analysis is to include age as another independent variable $A$ in our logistic regression model, as follows\n",
    "$$ P(D=1|T,A) = \\left[1+\\exp\\left(-\\beta_0 - \\beta_1 T + \\beta_2 A\\right)\\right]^{-1}.$$\n",
    "Let's rerun our observational simulations using this multivaraite logistic model and see if there's any improvement."
   ]
  },
  {
   "cell_type": "code",
   "execution_count": 51,
   "id": "239e6aea",
   "metadata": {
    "scrolled": true
   },
   "outputs": [
    {
     "name": "stdout",
     "output_type": "stream",
     "text": [
      "Failure    528\n",
      "Success    472\n",
      "dtype: int64\n"
     ]
    },
    {
     "data": {
      "image/png": "[encoded data removed]",
      "text/plain": [
       "<Figure size 432x288 with 1 Axes>"
      ]
     },
     "metadata": {
      "needs_background": "light"
     },
     "output_type": "display_data"
    }
   ],
   "source": [
    "ObsTrialsCov = pd.DataFrame(columns=['OR','pVal','LCI','UCI','success'], index = range(nSims))\n",
    "\n",
    "seed = 42\n",
    "rng = np.random.default_rng(seed)\n",
    "\n",
    "for i in range(nSims):\n",
    "    \n",
    "    treatment = np.tile([0,1],int(0.5*nPatients))\n",
    "    \n",
    "    age = rng.uniform(minAge,maxAge,nPatients)\n",
    "\n",
    "    treatment[age < minTreatmentAge] = 0\n",
    "    \n",
    "    deathProb = np.zeros(nPatients)\n",
    "    deathProb[age < ageDeathThreshold] = youngDeathProb\n",
    "    deathProb[age >= ageDeathThreshold] = oldDeathProb\n",
    "    deathProb[treatment==1] *= treatmentRelativeRisk\n",
    "    deathOutcome = rng.binomial(1, deathProb)\n",
    "    \n",
    "    inputs = np.transpose([treatment,age])\n",
    "    ObsTrialsCov.loc[i,['OR','pVal','LCI','UCI']] = myLogisticRegression(inputs, deathOutcome)\n",
    "    \n",
    "ObsTrialsCov.success = determineSuccess(ObsTrialsCov.OR, ObsTrialsCov.pVal, statSigThreshold)"
   ]
  },
  {
   "cell_type": "markdown",
   "id": "09c8c8c3",
   "metadata": {},
   "source": [
    "This is a big improvement on the previous observational results, but still much worse than the RCTs, and still mostly failures."
   ]
  }
 ],
 "metadata": {
  "kernelspec": {
   "display_name": "Python 3 (ipykernel)",
   "language": "python",
   "name": "python3"
  },
  "language_info": {
   "codemirror_mode": {
    "name": "ipython",
    "version": 3
   },
   "file_extension": ".py",
   "mimetype": "text/x-python",
   "name": "python",
   "nbconvert_exporter": "python",
   "pygments_lexer": "ipython3",
   "version": "3.10.9"
  }
 },
 "nbformat": 4,
 "nbformat_minor": 5
}
